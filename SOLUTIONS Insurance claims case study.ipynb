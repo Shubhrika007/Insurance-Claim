{
 "cells": [
  {
   "cell_type": "markdown",
   "id": "d6091e9f",
   "metadata": {},
   "source": [
    "### 1. Import claims_data.csv and cust_data.csv which is provided to you and combine the two datasets appropriately to create a 360-degree view of the data. Use the same for the subsequent questions."
   ]
  },
  {
   "cell_type": "code",
   "execution_count": 2,
   "id": "9aee744c",
   "metadata": {},
   "outputs": [],
   "source": [
    "import numpy as np\n",
    "import pandas as pd\n",
    "import matplotlib.pyplot as plt\n",
    "import seaborn as sns\n",
    "%matplotlib inline\n",
    "import datetime as dt"
   ]
  },
  {
   "cell_type": "code",
   "execution_count": 3,
   "id": "13de72ec",
   "metadata": {},
   "outputs": [],
   "source": [
    "file_path='C:/Users/DELL/Desktop/Python case studies/Insurance'"
   ]
  },
  {
   "cell_type": "code",
   "execution_count": 4,
   "id": "6e353a66",
   "metadata": {},
   "outputs": [],
   "source": [
    "claims= pd.read_csv(file_path+'/claims.csv')"
   ]
  },
  {
   "cell_type": "code",
   "execution_count": 5,
   "id": "45fd94fc",
   "metadata": {},
   "outputs": [
    {
     "data": {
      "text/html": [
       "<div>\n",
       "<style scoped>\n",
       "    .dataframe tbody tr th:only-of-type {\n",
       "        vertical-align: middle;\n",
       "    }\n",
       "\n",
       "    .dataframe tbody tr th {\n",
       "        vertical-align: top;\n",
       "    }\n",
       "\n",
       "    .dataframe thead th {\n",
       "        text-align: right;\n",
       "    }\n",
       "</style>\n",
       "<table border=\"1\" class=\"dataframe\">\n",
       "  <thead>\n",
       "    <tr style=\"text-align: right;\">\n",
       "      <th></th>\n",
       "      <th>claim_id</th>\n",
       "      <th>customer_id</th>\n",
       "      <th>incident_cause</th>\n",
       "      <th>claim_date</th>\n",
       "      <th>claim_area</th>\n",
       "      <th>police_report</th>\n",
       "      <th>claim_type</th>\n",
       "      <th>claim_amount</th>\n",
       "      <th>total_policy_claims</th>\n",
       "      <th>fraudulent</th>\n",
       "    </tr>\n",
       "  </thead>\n",
       "  <tbody>\n",
       "    <tr>\n",
       "      <th>0</th>\n",
       "      <td>54004764</td>\n",
       "      <td>21868593</td>\n",
       "      <td>Driver error</td>\n",
       "      <td>11/27/2017</td>\n",
       "      <td>Auto</td>\n",
       "      <td>No</td>\n",
       "      <td>Material only</td>\n",
       "      <td>$2980</td>\n",
       "      <td>1.0</td>\n",
       "      <td>No</td>\n",
       "    </tr>\n",
       "    <tr>\n",
       "      <th>1</th>\n",
       "      <td>33985796</td>\n",
       "      <td>75740424</td>\n",
       "      <td>Crime</td>\n",
       "      <td>10/03/2018</td>\n",
       "      <td>Home</td>\n",
       "      <td>Unknown</td>\n",
       "      <td>Material only</td>\n",
       "      <td>$2980</td>\n",
       "      <td>3.0</td>\n",
       "      <td>No</td>\n",
       "    </tr>\n",
       "    <tr>\n",
       "      <th>2</th>\n",
       "      <td>53522022</td>\n",
       "      <td>30308357</td>\n",
       "      <td>Other driver error</td>\n",
       "      <td>02/02/2018</td>\n",
       "      <td>Auto</td>\n",
       "      <td>No</td>\n",
       "      <td>Material only</td>\n",
       "      <td>$3369.5</td>\n",
       "      <td>1.0</td>\n",
       "      <td>Yes</td>\n",
       "    </tr>\n",
       "    <tr>\n",
       "      <th>3</th>\n",
       "      <td>13015401</td>\n",
       "      <td>47830476</td>\n",
       "      <td>Natural causes</td>\n",
       "      <td>06/17/2018</td>\n",
       "      <td>Auto</td>\n",
       "      <td>No</td>\n",
       "      <td>Material only</td>\n",
       "      <td>$1680</td>\n",
       "      <td>1.0</td>\n",
       "      <td>No</td>\n",
       "    </tr>\n",
       "    <tr>\n",
       "      <th>4</th>\n",
       "      <td>22890252</td>\n",
       "      <td>19269962</td>\n",
       "      <td>Crime</td>\n",
       "      <td>01/13/2018</td>\n",
       "      <td>Auto</td>\n",
       "      <td>No</td>\n",
       "      <td>Material only</td>\n",
       "      <td>$2680</td>\n",
       "      <td>1.0</td>\n",
       "      <td>No</td>\n",
       "    </tr>\n",
       "  </tbody>\n",
       "</table>\n",
       "</div>"
      ],
      "text/plain": [
       "   claim_id  customer_id      incident_cause  claim_date claim_area  \\\n",
       "0  54004764     21868593        Driver error  11/27/2017       Auto   \n",
       "1  33985796     75740424               Crime  10/03/2018       Home   \n",
       "2  53522022     30308357  Other driver error  02/02/2018       Auto   \n",
       "3  13015401     47830476      Natural causes  06/17/2018       Auto   \n",
       "4  22890252     19269962               Crime  01/13/2018       Auto   \n",
       "\n",
       "  police_report     claim_type claim_amount  total_policy_claims fraudulent  \n",
       "0            No  Material only        $2980                  1.0         No  \n",
       "1       Unknown  Material only        $2980                  3.0         No  \n",
       "2            No  Material only      $3369.5                  1.0        Yes  \n",
       "3            No  Material only        $1680                  1.0         No  \n",
       "4            No  Material only        $2680                  1.0         No  "
      ]
     },
     "execution_count": 5,
     "metadata": {},
     "output_type": "execute_result"
    }
   ],
   "source": [
    "claims.head()"
   ]
  },
  {
   "cell_type": "code",
   "execution_count": 6,
   "id": "e551764a",
   "metadata": {},
   "outputs": [
    {
     "data": {
      "text/plain": [
       "0"
      ]
     },
     "execution_count": 6,
     "metadata": {},
     "output_type": "execute_result"
    }
   ],
   "source": [
    "#checking for duplicates in the claims table\n",
    "\n",
    "claims.duplicated().sum()"
   ]
  },
  {
   "cell_type": "code",
   "execution_count": 7,
   "id": "c64c5047",
   "metadata": {},
   "outputs": [],
   "source": [
    "cust= pd.read_csv(file_path+'/cust_demographics.csv')"
   ]
  },
  {
   "cell_type": "code",
   "execution_count": 8,
   "id": "f6ecfd26",
   "metadata": {},
   "outputs": [
    {
     "data": {
      "text/html": [
       "<div>\n",
       "<style scoped>\n",
       "    .dataframe tbody tr th:only-of-type {\n",
       "        vertical-align: middle;\n",
       "    }\n",
       "\n",
       "    .dataframe tbody tr th {\n",
       "        vertical-align: top;\n",
       "    }\n",
       "\n",
       "    .dataframe thead th {\n",
       "        text-align: right;\n",
       "    }\n",
       "</style>\n",
       "<table border=\"1\" class=\"dataframe\">\n",
       "  <thead>\n",
       "    <tr style=\"text-align: right;\">\n",
       "      <th></th>\n",
       "      <th>CUST_ID</th>\n",
       "      <th>gender</th>\n",
       "      <th>DateOfBirth</th>\n",
       "      <th>State</th>\n",
       "      <th>Contact</th>\n",
       "      <th>Segment</th>\n",
       "    </tr>\n",
       "  </thead>\n",
       "  <tbody>\n",
       "    <tr>\n",
       "      <th>0</th>\n",
       "      <td>21868593</td>\n",
       "      <td>Female</td>\n",
       "      <td>12-Jan-79</td>\n",
       "      <td>VT</td>\n",
       "      <td>789-916-8172</td>\n",
       "      <td>Platinum</td>\n",
       "    </tr>\n",
       "    <tr>\n",
       "      <th>1</th>\n",
       "      <td>75740424</td>\n",
       "      <td>Female</td>\n",
       "      <td>13-Jan-70</td>\n",
       "      <td>ME</td>\n",
       "      <td>265-543-1264</td>\n",
       "      <td>Silver</td>\n",
       "    </tr>\n",
       "    <tr>\n",
       "      <th>2</th>\n",
       "      <td>30308357</td>\n",
       "      <td>Female</td>\n",
       "      <td>11-Mar-84</td>\n",
       "      <td>TN</td>\n",
       "      <td>798-631-4758</td>\n",
       "      <td>Silver</td>\n",
       "    </tr>\n",
       "    <tr>\n",
       "      <th>3</th>\n",
       "      <td>47830476</td>\n",
       "      <td>Female</td>\n",
       "      <td>01-May-86</td>\n",
       "      <td>MA</td>\n",
       "      <td>413-187-7945</td>\n",
       "      <td>Silver</td>\n",
       "    </tr>\n",
       "    <tr>\n",
       "      <th>4</th>\n",
       "      <td>19269962</td>\n",
       "      <td>Male</td>\n",
       "      <td>13-May-77</td>\n",
       "      <td>NV</td>\n",
       "      <td>956-871-8691</td>\n",
       "      <td>Gold</td>\n",
       "    </tr>\n",
       "  </tbody>\n",
       "</table>\n",
       "</div>"
      ],
      "text/plain": [
       "    CUST_ID  gender DateOfBirth State       Contact   Segment\n",
       "0  21868593  Female   12-Jan-79    VT  789-916-8172  Platinum\n",
       "1  75740424  Female   13-Jan-70    ME  265-543-1264    Silver\n",
       "2  30308357  Female   11-Mar-84    TN  798-631-4758    Silver\n",
       "3  47830476  Female   01-May-86    MA  413-187-7945    Silver\n",
       "4  19269962    Male   13-May-77    NV  956-871-8691      Gold"
      ]
     },
     "execution_count": 8,
     "metadata": {},
     "output_type": "execute_result"
    }
   ],
   "source": [
    "cust.head()"
   ]
  },
  {
   "cell_type": "code",
   "execution_count": 9,
   "id": "01b4266d",
   "metadata": {},
   "outputs": [
    {
     "data": {
      "text/plain": [
       "0"
      ]
     },
     "execution_count": 9,
     "metadata": {},
     "output_type": "execute_result"
    }
   ],
   "source": [
    "#checking for duplicates in the cust table\n",
    "cust.duplicated().sum()"
   ]
  },
  {
   "cell_type": "code",
   "execution_count": 10,
   "id": "e7b002f2",
   "metadata": {},
   "outputs": [],
   "source": [
    "cust_claims= pd.merge(left=claims, right= cust, how= 'left', left_on='customer_id',right_on='CUST_ID', indicator=True )"
   ]
  },
  {
   "cell_type": "code",
   "execution_count": 11,
   "id": "edc1bcf3",
   "metadata": {},
   "outputs": [
    {
     "data": {
      "text/html": [
       "<div>\n",
       "<style scoped>\n",
       "    .dataframe tbody tr th:only-of-type {\n",
       "        vertical-align: middle;\n",
       "    }\n",
       "\n",
       "    .dataframe tbody tr th {\n",
       "        vertical-align: top;\n",
       "    }\n",
       "\n",
       "    .dataframe thead th {\n",
       "        text-align: right;\n",
       "    }\n",
       "</style>\n",
       "<table border=\"1\" class=\"dataframe\">\n",
       "  <thead>\n",
       "    <tr style=\"text-align: right;\">\n",
       "      <th></th>\n",
       "      <th>claim_id</th>\n",
       "      <th>customer_id</th>\n",
       "      <th>incident_cause</th>\n",
       "      <th>claim_date</th>\n",
       "      <th>claim_area</th>\n",
       "      <th>police_report</th>\n",
       "      <th>claim_type</th>\n",
       "      <th>claim_amount</th>\n",
       "      <th>total_policy_claims</th>\n",
       "      <th>fraudulent</th>\n",
       "      <th>CUST_ID</th>\n",
       "      <th>gender</th>\n",
       "      <th>DateOfBirth</th>\n",
       "      <th>State</th>\n",
       "      <th>Contact</th>\n",
       "      <th>Segment</th>\n",
       "      <th>_merge</th>\n",
       "    </tr>\n",
       "  </thead>\n",
       "  <tbody>\n",
       "    <tr>\n",
       "      <th>0</th>\n",
       "      <td>54004764</td>\n",
       "      <td>21868593</td>\n",
       "      <td>Driver error</td>\n",
       "      <td>11/27/2017</td>\n",
       "      <td>Auto</td>\n",
       "      <td>No</td>\n",
       "      <td>Material only</td>\n",
       "      <td>$2980</td>\n",
       "      <td>1.0</td>\n",
       "      <td>No</td>\n",
       "      <td>21868593.0</td>\n",
       "      <td>Female</td>\n",
       "      <td>12-Jan-79</td>\n",
       "      <td>VT</td>\n",
       "      <td>789-916-8172</td>\n",
       "      <td>Platinum</td>\n",
       "      <td>both</td>\n",
       "    </tr>\n",
       "    <tr>\n",
       "      <th>1</th>\n",
       "      <td>33985796</td>\n",
       "      <td>75740424</td>\n",
       "      <td>Crime</td>\n",
       "      <td>10/03/2018</td>\n",
       "      <td>Home</td>\n",
       "      <td>Unknown</td>\n",
       "      <td>Material only</td>\n",
       "      <td>$2980</td>\n",
       "      <td>3.0</td>\n",
       "      <td>No</td>\n",
       "      <td>75740424.0</td>\n",
       "      <td>Female</td>\n",
       "      <td>13-Jan-70</td>\n",
       "      <td>ME</td>\n",
       "      <td>265-543-1264</td>\n",
       "      <td>Silver</td>\n",
       "      <td>both</td>\n",
       "    </tr>\n",
       "    <tr>\n",
       "      <th>2</th>\n",
       "      <td>53522022</td>\n",
       "      <td>30308357</td>\n",
       "      <td>Other driver error</td>\n",
       "      <td>02/02/2018</td>\n",
       "      <td>Auto</td>\n",
       "      <td>No</td>\n",
       "      <td>Material only</td>\n",
       "      <td>$3369.5</td>\n",
       "      <td>1.0</td>\n",
       "      <td>Yes</td>\n",
       "      <td>30308357.0</td>\n",
       "      <td>Female</td>\n",
       "      <td>11-Mar-84</td>\n",
       "      <td>TN</td>\n",
       "      <td>798-631-4758</td>\n",
       "      <td>Silver</td>\n",
       "      <td>both</td>\n",
       "    </tr>\n",
       "    <tr>\n",
       "      <th>3</th>\n",
       "      <td>13015401</td>\n",
       "      <td>47830476</td>\n",
       "      <td>Natural causes</td>\n",
       "      <td>06/17/2018</td>\n",
       "      <td>Auto</td>\n",
       "      <td>No</td>\n",
       "      <td>Material only</td>\n",
       "      <td>$1680</td>\n",
       "      <td>1.0</td>\n",
       "      <td>No</td>\n",
       "      <td>47830476.0</td>\n",
       "      <td>Female</td>\n",
       "      <td>01-May-86</td>\n",
       "      <td>MA</td>\n",
       "      <td>413-187-7945</td>\n",
       "      <td>Silver</td>\n",
       "      <td>both</td>\n",
       "    </tr>\n",
       "    <tr>\n",
       "      <th>4</th>\n",
       "      <td>22890252</td>\n",
       "      <td>19269962</td>\n",
       "      <td>Crime</td>\n",
       "      <td>01/13/2018</td>\n",
       "      <td>Auto</td>\n",
       "      <td>No</td>\n",
       "      <td>Material only</td>\n",
       "      <td>$2680</td>\n",
       "      <td>1.0</td>\n",
       "      <td>No</td>\n",
       "      <td>19269962.0</td>\n",
       "      <td>Male</td>\n",
       "      <td>13-May-77</td>\n",
       "      <td>NV</td>\n",
       "      <td>956-871-8691</td>\n",
       "      <td>Gold</td>\n",
       "      <td>both</td>\n",
       "    </tr>\n",
       "  </tbody>\n",
       "</table>\n",
       "</div>"
      ],
      "text/plain": [
       "   claim_id  customer_id      incident_cause  claim_date claim_area  \\\n",
       "0  54004764     21868593        Driver error  11/27/2017       Auto   \n",
       "1  33985796     75740424               Crime  10/03/2018       Home   \n",
       "2  53522022     30308357  Other driver error  02/02/2018       Auto   \n",
       "3  13015401     47830476      Natural causes  06/17/2018       Auto   \n",
       "4  22890252     19269962               Crime  01/13/2018       Auto   \n",
       "\n",
       "  police_report     claim_type claim_amount  total_policy_claims fraudulent  \\\n",
       "0            No  Material only        $2980                  1.0         No   \n",
       "1       Unknown  Material only        $2980                  3.0         No   \n",
       "2            No  Material only      $3369.5                  1.0        Yes   \n",
       "3            No  Material only        $1680                  1.0         No   \n",
       "4            No  Material only        $2680                  1.0         No   \n",
       "\n",
       "      CUST_ID  gender DateOfBirth State       Contact   Segment _merge  \n",
       "0  21868593.0  Female   12-Jan-79    VT  789-916-8172  Platinum   both  \n",
       "1  75740424.0  Female   13-Jan-70    ME  265-543-1264    Silver   both  \n",
       "2  30308357.0  Female   11-Mar-84    TN  798-631-4758    Silver   both  \n",
       "3  47830476.0  Female   01-May-86    MA  413-187-7945    Silver   both  \n",
       "4  19269962.0    Male   13-May-77    NV  956-871-8691      Gold   both  "
      ]
     },
     "execution_count": 11,
     "metadata": {},
     "output_type": "execute_result"
    }
   ],
   "source": [
    "cust_claims.head()"
   ]
  },
  {
   "cell_type": "markdown",
   "id": "b4d59c6e",
   "metadata": {},
   "source": [
    "### 2. Perform a data audit for the datatypes and find out if there are any mismatch within the current datatypes of the columns and their business significance."
   ]
  },
  {
   "cell_type": "code",
   "execution_count": 12,
   "id": "1aa5e7ca",
   "metadata": {},
   "outputs": [
    {
     "data": {
      "text/plain": [
       "claim_id                  int64\n",
       "customer_id               int64\n",
       "incident_cause           object\n",
       "claim_date               object\n",
       "claim_area               object\n",
       "police_report            object\n",
       "claim_type               object\n",
       "claim_amount             object\n",
       "total_policy_claims     float64\n",
       "fraudulent               object\n",
       "CUST_ID                 float64\n",
       "gender                   object\n",
       "DateOfBirth              object\n",
       "State                    object\n",
       "Contact                  object\n",
       "Segment                  object\n",
       "_merge                 category\n",
       "dtype: object"
      ]
     },
     "execution_count": 12,
     "metadata": {},
     "output_type": "execute_result"
    }
   ],
   "source": [
    "cust_claims.dtypes"
   ]
  },
  {
   "cell_type": "raw",
   "id": "5043b350",
   "metadata": {},
   "source": [
    "From above we can see that claim_date, DateofBirth are objects instedof date time, also claim ammount is a string due to the addition of $ which would prevent us from doing any calculations like average claim ammount,average monthly/yearly number of claims, or average monthly/yearly claim ammount. "
   ]
  },
  {
   "cell_type": "code",
   "execution_count": 13,
   "id": "6ebb801c",
   "metadata": {},
   "outputs": [],
   "source": [
    "# Converting the claim date column in dateset from object to datetime.\n",
    "cust_claims['claim_date']=pd.to_datetime(cust_claims.claim_date)"
   ]
  },
  {
   "cell_type": "code",
   "execution_count": 14,
   "id": "70a33db4",
   "metadata": {},
   "outputs": [],
   "source": [
    "# Converting the DateOfBirth column in dateset from object to datetime.\n",
    "cust_claims['DateOfBirth']= pd.to_datetime(cust_claims.DateOfBirth)"
   ]
  },
  {
   "cell_type": "code",
   "execution_count": 15,
   "id": "47d85af3",
   "metadata": {},
   "outputs": [
    {
     "data": {
      "text/plain": [
       "claim_id                        int64\n",
       "customer_id                     int64\n",
       "incident_cause                 object\n",
       "claim_date             datetime64[ns]\n",
       "claim_area                     object\n",
       "police_report                  object\n",
       "claim_type                     object\n",
       "claim_amount                   object\n",
       "total_policy_claims           float64\n",
       "fraudulent                     object\n",
       "CUST_ID                       float64\n",
       "gender                         object\n",
       "DateOfBirth            datetime64[ns]\n",
       "State                          object\n",
       "Contact                        object\n",
       "Segment                        object\n",
       "_merge                       category\n",
       "dtype: object"
      ]
     },
     "execution_count": 15,
     "metadata": {},
     "output_type": "execute_result"
    }
   ],
   "source": [
    "cust_claims.dtypes"
   ]
  },
  {
   "cell_type": "markdown",
   "id": "eef2f88d",
   "metadata": {},
   "source": [
    "### 3. Convert the column claim_amount to numeric. Use the appropriate modules/attributes to remove the $ sign."
   ]
  },
  {
   "cell_type": "code",
   "execution_count": 16,
   "id": "d22cba94",
   "metadata": {},
   "outputs": [
    {
     "name": "stderr",
     "output_type": "stream",
     "text": [
      "C:\\Users\\DELL\\AppData\\Local\\Temp/ipykernel_32412/1842674099.py:1: FutureWarning: The default value of regex will change from True to False in a future version. In addition, single character regular expressions will *not* be treated as literal strings when regex=True.\n",
      "  cust_claims['claim_amount']=cust_claims['claim_amount'].str.replace('$','').astype(float)\n"
     ]
    }
   ],
   "source": [
    "cust_claims['claim_amount']=cust_claims['claim_amount'].str.replace('$','').astype(float)"
   ]
  },
  {
   "cell_type": "code",
   "execution_count": 17,
   "id": "eda96c42",
   "metadata": {},
   "outputs": [
    {
     "data": {
      "text/plain": [
       "dtype('float64')"
      ]
     },
     "execution_count": 17,
     "metadata": {},
     "output_type": "execute_result"
    }
   ],
   "source": [
    "cust_claims.claim_amount.dtype"
   ]
  },
  {
   "cell_type": "markdown",
   "id": "49e35053",
   "metadata": {},
   "source": [
    "### 4. Of all the injury claims, some of them have gone unreported with the police. Create an alert flag (1,0) for all such claims."
   ]
  },
  {
   "cell_type": "code",
   "execution_count": 18,
   "id": "52d0f2c8",
   "metadata": {
    "scrolled": true
   },
   "outputs": [],
   "source": [
    "cust_claims['Alert Flag']= np.where( (cust_claims.claim_type.str.lower().str.contains('injury')) & (cust_claims.police_report!='Yes'),1,0)"
   ]
  },
  {
   "cell_type": "code",
   "execution_count": 19,
   "id": "e70ed84c",
   "metadata": {},
   "outputs": [
    {
     "data": {
      "text/html": [
       "<div>\n",
       "<style scoped>\n",
       "    .dataframe tbody tr th:only-of-type {\n",
       "        vertical-align: middle;\n",
       "    }\n",
       "\n",
       "    .dataframe tbody tr th {\n",
       "        vertical-align: top;\n",
       "    }\n",
       "\n",
       "    .dataframe thead th {\n",
       "        text-align: right;\n",
       "    }\n",
       "</style>\n",
       "<table border=\"1\" class=\"dataframe\">\n",
       "  <thead>\n",
       "    <tr style=\"text-align: right;\">\n",
       "      <th></th>\n",
       "      <th>claim_id</th>\n",
       "      <th>customer_id</th>\n",
       "      <th>incident_cause</th>\n",
       "      <th>claim_date</th>\n",
       "      <th>claim_area</th>\n",
       "      <th>police_report</th>\n",
       "      <th>claim_type</th>\n",
       "      <th>claim_amount</th>\n",
       "      <th>total_policy_claims</th>\n",
       "      <th>fraudulent</th>\n",
       "      <th>CUST_ID</th>\n",
       "      <th>gender</th>\n",
       "      <th>DateOfBirth</th>\n",
       "      <th>State</th>\n",
       "      <th>Contact</th>\n",
       "      <th>Segment</th>\n",
       "      <th>_merge</th>\n",
       "      <th>Alert Flag</th>\n",
       "    </tr>\n",
       "  </thead>\n",
       "  <tbody>\n",
       "    <tr>\n",
       "      <th>0</th>\n",
       "      <td>54004764</td>\n",
       "      <td>21868593</td>\n",
       "      <td>Driver error</td>\n",
       "      <td>2017-11-27</td>\n",
       "      <td>Auto</td>\n",
       "      <td>No</td>\n",
       "      <td>Material only</td>\n",
       "      <td>2980.0</td>\n",
       "      <td>1.0</td>\n",
       "      <td>No</td>\n",
       "      <td>21868593.0</td>\n",
       "      <td>Female</td>\n",
       "      <td>1979-01-12</td>\n",
       "      <td>VT</td>\n",
       "      <td>789-916-8172</td>\n",
       "      <td>Platinum</td>\n",
       "      <td>both</td>\n",
       "      <td>0</td>\n",
       "    </tr>\n",
       "    <tr>\n",
       "      <th>1</th>\n",
       "      <td>33985796</td>\n",
       "      <td>75740424</td>\n",
       "      <td>Crime</td>\n",
       "      <td>2018-10-03</td>\n",
       "      <td>Home</td>\n",
       "      <td>Unknown</td>\n",
       "      <td>Material only</td>\n",
       "      <td>2980.0</td>\n",
       "      <td>3.0</td>\n",
       "      <td>No</td>\n",
       "      <td>75740424.0</td>\n",
       "      <td>Female</td>\n",
       "      <td>2070-01-13</td>\n",
       "      <td>ME</td>\n",
       "      <td>265-543-1264</td>\n",
       "      <td>Silver</td>\n",
       "      <td>both</td>\n",
       "      <td>0</td>\n",
       "    </tr>\n",
       "    <tr>\n",
       "      <th>2</th>\n",
       "      <td>53522022</td>\n",
       "      <td>30308357</td>\n",
       "      <td>Other driver error</td>\n",
       "      <td>2018-02-02</td>\n",
       "      <td>Auto</td>\n",
       "      <td>No</td>\n",
       "      <td>Material only</td>\n",
       "      <td>3369.5</td>\n",
       "      <td>1.0</td>\n",
       "      <td>Yes</td>\n",
       "      <td>30308357.0</td>\n",
       "      <td>Female</td>\n",
       "      <td>1984-03-11</td>\n",
       "      <td>TN</td>\n",
       "      <td>798-631-4758</td>\n",
       "      <td>Silver</td>\n",
       "      <td>both</td>\n",
       "      <td>0</td>\n",
       "    </tr>\n",
       "    <tr>\n",
       "      <th>3</th>\n",
       "      <td>13015401</td>\n",
       "      <td>47830476</td>\n",
       "      <td>Natural causes</td>\n",
       "      <td>2018-06-17</td>\n",
       "      <td>Auto</td>\n",
       "      <td>No</td>\n",
       "      <td>Material only</td>\n",
       "      <td>1680.0</td>\n",
       "      <td>1.0</td>\n",
       "      <td>No</td>\n",
       "      <td>47830476.0</td>\n",
       "      <td>Female</td>\n",
       "      <td>1986-05-01</td>\n",
       "      <td>MA</td>\n",
       "      <td>413-187-7945</td>\n",
       "      <td>Silver</td>\n",
       "      <td>both</td>\n",
       "      <td>0</td>\n",
       "    </tr>\n",
       "    <tr>\n",
       "      <th>4</th>\n",
       "      <td>22890252</td>\n",
       "      <td>19269962</td>\n",
       "      <td>Crime</td>\n",
       "      <td>2018-01-13</td>\n",
       "      <td>Auto</td>\n",
       "      <td>No</td>\n",
       "      <td>Material only</td>\n",
       "      <td>2680.0</td>\n",
       "      <td>1.0</td>\n",
       "      <td>No</td>\n",
       "      <td>19269962.0</td>\n",
       "      <td>Male</td>\n",
       "      <td>1977-05-13</td>\n",
       "      <td>NV</td>\n",
       "      <td>956-871-8691</td>\n",
       "      <td>Gold</td>\n",
       "      <td>both</td>\n",
       "      <td>0</td>\n",
       "    </tr>\n",
       "    <tr>\n",
       "      <th>5</th>\n",
       "      <td>24050443</td>\n",
       "      <td>21831191</td>\n",
       "      <td>Other driver error</td>\n",
       "      <td>2017-10-04</td>\n",
       "      <td>Auto</td>\n",
       "      <td>No</td>\n",
       "      <td>Injury only</td>\n",
       "      <td>38306.5</td>\n",
       "      <td>3.0</td>\n",
       "      <td>Yes</td>\n",
       "      <td>21831191.0</td>\n",
       "      <td>Male</td>\n",
       "      <td>1977-05-17</td>\n",
       "      <td>NH</td>\n",
       "      <td>419-712-8513</td>\n",
       "      <td>Gold</td>\n",
       "      <td>both</td>\n",
       "      <td>1</td>\n",
       "    </tr>\n",
       "    <tr>\n",
       "      <th>6</th>\n",
       "      <td>12878692</td>\n",
       "      <td>18401412</td>\n",
       "      <td>Driver error</td>\n",
       "      <td>2018-01-13</td>\n",
       "      <td>Auto</td>\n",
       "      <td>No</td>\n",
       "      <td>Material only</td>\n",
       "      <td>1730.0</td>\n",
       "      <td>4.0</td>\n",
       "      <td>No</td>\n",
       "      <td>18401412.0</td>\n",
       "      <td>Male</td>\n",
       "      <td>1999-03-02</td>\n",
       "      <td>AR</td>\n",
       "      <td>752-398-2914</td>\n",
       "      <td>Gold</td>\n",
       "      <td>both</td>\n",
       "      <td>0</td>\n",
       "    </tr>\n",
       "  </tbody>\n",
       "</table>\n",
       "</div>"
      ],
      "text/plain": [
       "   claim_id  customer_id      incident_cause claim_date claim_area  \\\n",
       "0  54004764     21868593        Driver error 2017-11-27       Auto   \n",
       "1  33985796     75740424               Crime 2018-10-03       Home   \n",
       "2  53522022     30308357  Other driver error 2018-02-02       Auto   \n",
       "3  13015401     47830476      Natural causes 2018-06-17       Auto   \n",
       "4  22890252     19269962               Crime 2018-01-13       Auto   \n",
       "5  24050443     21831191  Other driver error 2017-10-04       Auto   \n",
       "6  12878692     18401412        Driver error 2018-01-13       Auto   \n",
       "\n",
       "  police_report     claim_type  claim_amount  total_policy_claims fraudulent  \\\n",
       "0            No  Material only        2980.0                  1.0         No   \n",
       "1       Unknown  Material only        2980.0                  3.0         No   \n",
       "2            No  Material only        3369.5                  1.0        Yes   \n",
       "3            No  Material only        1680.0                  1.0         No   \n",
       "4            No  Material only        2680.0                  1.0         No   \n",
       "5            No    Injury only       38306.5                  3.0        Yes   \n",
       "6            No  Material only        1730.0                  4.0         No   \n",
       "\n",
       "      CUST_ID  gender DateOfBirth State       Contact   Segment _merge  \\\n",
       "0  21868593.0  Female  1979-01-12    VT  789-916-8172  Platinum   both   \n",
       "1  75740424.0  Female  2070-01-13    ME  265-543-1264    Silver   both   \n",
       "2  30308357.0  Female  1984-03-11    TN  798-631-4758    Silver   both   \n",
       "3  47830476.0  Female  1986-05-01    MA  413-187-7945    Silver   both   \n",
       "4  19269962.0    Male  1977-05-13    NV  956-871-8691      Gold   both   \n",
       "5  21831191.0    Male  1977-05-17    NH  419-712-8513      Gold   both   \n",
       "6  18401412.0    Male  1999-03-02    AR  752-398-2914      Gold   both   \n",
       "\n",
       "   Alert Flag  \n",
       "0           0  \n",
       "1           0  \n",
       "2           0  \n",
       "3           0  \n",
       "4           0  \n",
       "5           1  \n",
       "6           0  "
      ]
     },
     "execution_count": 19,
     "metadata": {},
     "output_type": "execute_result"
    }
   ],
   "source": [
    "cust_claims.head(7)"
   ]
  },
  {
   "cell_type": "markdown",
   "id": "6c41e095",
   "metadata": {},
   "source": [
    "### 5. One customer can claim for insurance more than once and in each claim, multiple categories of claims can be involved. However, customer ID should remain unique. Retain the most recent observation and delete any duplicated records in the data based on the customer ID column."
   ]
  },
  {
   "cell_type": "code",
   "execution_count": 20,
   "id": "ea925ed2",
   "metadata": {},
   "outputs": [],
   "source": [
    "cust_claims.sort_values('claim_date', ascending=False, inplace=True)"
   ]
  },
  {
   "cell_type": "code",
   "execution_count": 21,
   "id": "4bc4d410",
   "metadata": {},
   "outputs": [],
   "source": [
    "cust_claims.drop_duplicates(subset=['customer_id'], inplace=True)"
   ]
  },
  {
   "cell_type": "code",
   "execution_count": 22,
   "id": "eefa3042",
   "metadata": {},
   "outputs": [
    {
     "data": {
      "text/plain": [
       "0"
      ]
     },
     "execution_count": 22,
     "metadata": {},
     "output_type": "execute_result"
    }
   ],
   "source": [
    "cust_claims.customer_id.duplicated().sum()"
   ]
  },
  {
   "cell_type": "markdown",
   "id": "a2660ca5",
   "metadata": {},
   "source": [
    "### 6. Check for missing values and impute the missing values with an appropriate value. (mean for continuous and mode for categorical)"
   ]
  },
  {
   "cell_type": "code",
   "execution_count": 23,
   "id": "0fcad606",
   "metadata": {},
   "outputs": [
    {
     "data": {
      "text/plain": [
       "claim_id                        int64\n",
       "customer_id                     int64\n",
       "incident_cause                 object\n",
       "claim_date             datetime64[ns]\n",
       "claim_area                     object\n",
       "police_report                  object\n",
       "claim_type                     object\n",
       "claim_amount                  float64\n",
       "total_policy_claims           float64\n",
       "fraudulent                     object\n",
       "CUST_ID                       float64\n",
       "gender                         object\n",
       "DateOfBirth            datetime64[ns]\n",
       "State                          object\n",
       "Contact                        object\n",
       "Segment                        object\n",
       "_merge                       category\n",
       "Alert Flag                      int32\n",
       "dtype: object"
      ]
     },
     "execution_count": 23,
     "metadata": {},
     "output_type": "execute_result"
    }
   ],
   "source": [
    "cust_claims.dtypes"
   ]
  },
  {
   "cell_type": "code",
   "execution_count": 24,
   "id": "316058f9",
   "metadata": {},
   "outputs": [
    {
     "name": "stdout",
     "output_type": "stream",
     "text": [
      "1000.0 48150.5 -31968.375 58262.625\n"
     ]
    }
   ],
   "source": [
    "# Out of the given columns in cust_claims only claim_amount is a continuous variable. Therefore we will do outlier treatment\n",
    "# for claim_amount before we start with missing value treatment.\n",
    "\n",
    "p0 = cust_claims.claim_amount.min()\n",
    "p100 = cust_claims.claim_amount.max()\n",
    "q2 = cust_claims.claim_amount.quantile( 0.5 )\n",
    "q1 = cust_claims.claim_amount.quantile( 0.25 )\n",
    "q3 = cust_claims.claim_amount.quantile( 0.75 )\n",
    "\n",
    "iqr = q3 - q1\n",
    "\n",
    "lc = q1 - 1.5 * iqr\n",
    "uc = q3 + 1.5 * iqr\n",
    "\n",
    "print( p0, p100, lc, uc )"
   ]
  },
  {
   "cell_type": "code",
   "execution_count": 25,
   "id": "2edf8466",
   "metadata": {},
   "outputs": [
    {
     "data": {
      "text/plain": [
       "<AxesSubplot:>"
      ]
     },
     "execution_count": 25,
     "metadata": {},
     "output_type": "execute_result"
    },
    {
     "data": {
      "image/png": "[encoded data removed]",
      "text/plain": [
       "<Figure size 432x288 with 1 Axes>"
      ]
     },
     "metadata": {
      "needs_background": "light"
     },
     "output_type": "display_data"
    }
   ],
   "source": [
    "cust_claims.claim_amount.plot(kind = 'box')"
   ]
  },
  {
   "cell_type": "raw",
   "id": "81879c16",
   "metadata": {},
   "source": [
    "From the above box plot we can see that there are no outliers in claim_amount column. So we can start the missing value imputation of this column now."
   ]
  },
  {
   "cell_type": "code",
   "execution_count": 26,
   "id": "237929eb",
   "metadata": {},
   "outputs": [
    {
     "data": {
      "text/plain": [
       "282     1.0\n",
       "350     1.0\n",
       "1077    1.0\n",
       "1086    1.0\n",
       "751     1.0\n",
       "       ... \n",
       "177     1.0\n",
       "191     1.0\n",
       "116     1.0\n",
       "308     3.0\n",
       "1064    1.0\n",
       "Name: total_policy_claims, Length: 1093, dtype: float64"
      ]
     },
     "execution_count": 26,
     "metadata": {},
     "output_type": "execute_result"
    }
   ],
   "source": [
    "cust_claims['total_policy_claims']"
   ]
  },
  {
   "cell_type": "code",
   "execution_count": 27,
   "id": "0edfee85",
   "metadata": {},
   "outputs": [
    {
     "data": {
      "text/plain": [
       "claim_id                0\n",
       "customer_id             0\n",
       "incident_cause          0\n",
       "claim_date              0\n",
       "claim_area              0\n",
       "police_report           0\n",
       "claim_type              0\n",
       "claim_amount           65\n",
       "total_policy_claims    10\n",
       "fraudulent              0\n",
       "CUST_ID                15\n",
       "gender                 15\n",
       "DateOfBirth            15\n",
       "State                  15\n",
       "Contact                15\n",
       "Segment                15\n",
       "_merge                  0\n",
       "Alert Flag              0\n",
       "dtype: int64"
      ]
     },
     "execution_count": 27,
     "metadata": {},
     "output_type": "execute_result"
    }
   ],
   "source": [
    "# Missing value treatment\n",
    "\n",
    "cust_claims.isna().sum()"
   ]
  },
  {
   "cell_type": "raw",
   "id": "8d4e9b85",
   "metadata": {},
   "source": [
    "With the above missing values we can see that there are 15 customers who claimed amount but are not mentioned in the customer database. So for these records we can't find Date of birth, contact. We can impute, gender, state, segment as mode but this data only forms 15/1093*100= 1.37 percent of the total data, in which case it is better to remove it. "
   ]
  },
  {
   "cell_type": "code",
   "execution_count": 28,
   "id": "99e5962d",
   "metadata": {},
   "outputs": [
    {
     "data": {
      "text/plain": [
       "1.3723696248856359"
      ]
     },
     "execution_count": 28,
     "metadata": {},
     "output_type": "execute_result"
    }
   ],
   "source": [
    "15/1093*100"
   ]
  },
  {
   "cell_type": "code",
   "execution_count": 29,
   "id": "9e8429d6",
   "metadata": {},
   "outputs": [],
   "source": [
    "cust_claims.dropna(subset=['CUST_ID'], inplace=True)"
   ]
  },
  {
   "cell_type": "code",
   "execution_count": 30,
   "id": "caf4bcfb",
   "metadata": {},
   "outputs": [
    {
     "data": {
      "text/plain": [
       "claim_id                0\n",
       "customer_id             0\n",
       "incident_cause          0\n",
       "claim_date              0\n",
       "claim_area              0\n",
       "police_report           0\n",
       "claim_type              0\n",
       "claim_amount           65\n",
       "total_policy_claims    10\n",
       "fraudulent              0\n",
       "CUST_ID                 0\n",
       "gender                  0\n",
       "DateOfBirth             0\n",
       "State                   0\n",
       "Contact                 0\n",
       "Segment                 0\n",
       "_merge                  0\n",
       "Alert Flag              0\n",
       "dtype: int64"
      ]
     },
     "execution_count": 30,
     "metadata": {},
     "output_type": "execute_result"
    }
   ],
   "source": [
    "cust_claims.isna().sum()"
   ]
  },
  {
   "cell_type": "code",
   "execution_count": 31,
   "id": "9d45889d",
   "metadata": {},
   "outputs": [],
   "source": [
    "#imputing missing claim amount to mean claim amount\n",
    "\n",
    "cust_claims.claim_amount.fillna(cust_claims.claim_amount.mean(), inplace=True)"
   ]
  },
  {
   "cell_type": "code",
   "execution_count": 147,
   "id": "09e5190c",
   "metadata": {},
   "outputs": [
    {
     "data": {
      "text/plain": [
       "1.0"
      ]
     },
     "execution_count": 147,
     "metadata": {},
     "output_type": "execute_result"
    }
   ],
   "source": [
    "mode_1=cust_claims.total_policy_claims.mode().item()\n",
    "mode_1"
   ]
  },
  {
   "cell_type": "code",
   "execution_count": 148,
   "id": "26339b39",
   "metadata": {},
   "outputs": [],
   "source": [
    "#imputing missing total policy claims to mode of total policy claims\n",
    "\n",
    "cust_claims.total_policy_claims.fillna(value=mode_1, inplace=True)"
   ]
  },
  {
   "cell_type": "code",
   "execution_count": 149,
   "id": "241972ad",
   "metadata": {},
   "outputs": [
    {
     "data": {
      "text/plain": [
       "claim_id               0\n",
       "customer_id            0\n",
       "incident_cause         0\n",
       "claim_date             0\n",
       "claim_area             0\n",
       "police_report          0\n",
       "claim_type             0\n",
       "claim_amount           0\n",
       "total_policy_claims    0\n",
       "fraudulent             0\n",
       "CUST_ID                0\n",
       "gender                 0\n",
       "DateOfBirth            0\n",
       "State                  0\n",
       "Contact                0\n",
       "Segment                0\n",
       "_merge                 0\n",
       "Alert Flag             0\n",
       "Age                    0\n",
       "Age group              0\n",
       "dtype: int64"
      ]
     },
     "execution_count": 149,
     "metadata": {},
     "output_type": "execute_result"
    }
   ],
   "source": [
    "#no there are no missing values \n",
    "\n",
    "cust_claims.isna().sum()"
   ]
  },
  {
   "cell_type": "code",
   "execution_count": 36,
   "id": "5fdf6bba",
   "metadata": {},
   "outputs": [],
   "source": [
    "# cust_claims[cust_claims.total_policy_claims.isna()]"
   ]
  },
  {
   "cell_type": "markdown",
   "id": "f439bb45",
   "metadata": {},
   "source": [
    "### 7. Calculate the age of customers in years. Based on the age, categorize the customers according to the below criteria\n",
    "### Children < 18\n",
    "### Youth 18-30\n",
    "### Adult 30-60\n",
    "### Senior > 60"
   ]
  },
  {
   "cell_type": "code",
   "execution_count": 37,
   "id": "1ad9a0d4",
   "metadata": {},
   "outputs": [],
   "source": [
    "# q1_df['Age group']=pd.cut(q1_df.Age,  bins=[0, 1, 12, 19, 60, 100] , labels=['Infant', 'Kid', 'Teenager', 'Grownup', 'Senior Citizen'])"
   ]
  },
  {
   "cell_type": "code",
   "execution_count": 38,
   "id": "5f7df7ca",
   "metadata": {},
   "outputs": [],
   "source": [
    "# Calcuting customers age \n",
    "\n",
    "cust_claims['Age']= pd.Timestamp.now().year- cust_claims.DateOfBirth.dt.year\n"
   ]
  },
  {
   "cell_type": "code",
   "execution_count": 39,
   "id": "4212ffda",
   "metadata": {},
   "outputs": [
    {
     "data": {
      "text/html": [
       "<div>\n",
       "<style scoped>\n",
       "    .dataframe tbody tr th:only-of-type {\n",
       "        vertical-align: middle;\n",
       "    }\n",
       "\n",
       "    .dataframe tbody tr th {\n",
       "        vertical-align: top;\n",
       "    }\n",
       "\n",
       "    .dataframe thead th {\n",
       "        text-align: right;\n",
       "    }\n",
       "</style>\n",
       "<table border=\"1\" class=\"dataframe\">\n",
       "  <thead>\n",
       "    <tr style=\"text-align: right;\">\n",
       "      <th></th>\n",
       "      <th>claim_id</th>\n",
       "      <th>customer_id</th>\n",
       "      <th>incident_cause</th>\n",
       "      <th>claim_date</th>\n",
       "      <th>claim_area</th>\n",
       "      <th>police_report</th>\n",
       "      <th>claim_type</th>\n",
       "      <th>claim_amount</th>\n",
       "      <th>total_policy_claims</th>\n",
       "      <th>fraudulent</th>\n",
       "      <th>CUST_ID</th>\n",
       "      <th>gender</th>\n",
       "      <th>DateOfBirth</th>\n",
       "      <th>State</th>\n",
       "      <th>Contact</th>\n",
       "      <th>Segment</th>\n",
       "      <th>_merge</th>\n",
       "      <th>Alert Flag</th>\n",
       "      <th>Age</th>\n",
       "    </tr>\n",
       "  </thead>\n",
       "  <tbody>\n",
       "    <tr>\n",
       "      <th>282</th>\n",
       "      <td>99775483</td>\n",
       "      <td>93915431</td>\n",
       "      <td>Other causes</td>\n",
       "      <td>2018-10-30</td>\n",
       "      <td>Auto</td>\n",
       "      <td>No</td>\n",
       "      <td>Material and injury</td>\n",
       "      <td>42124.5</td>\n",
       "      <td>1.0</td>\n",
       "      <td>Yes</td>\n",
       "      <td>93915431.0</td>\n",
       "      <td>Male</td>\n",
       "      <td>2067-09-08</td>\n",
       "      <td>ME</td>\n",
       "      <td>134-785-1687</td>\n",
       "      <td>Gold</td>\n",
       "      <td>both</td>\n",
       "      <td>1</td>\n",
       "      <td>-44</td>\n",
       "    </tr>\n",
       "    <tr>\n",
       "      <th>1077</th>\n",
       "      <td>91386759</td>\n",
       "      <td>65208809</td>\n",
       "      <td>Natural causes</td>\n",
       "      <td>2018-10-30</td>\n",
       "      <td>Auto</td>\n",
       "      <td>No</td>\n",
       "      <td>Material only</td>\n",
       "      <td>2290.0</td>\n",
       "      <td>1.0</td>\n",
       "      <td>No</td>\n",
       "      <td>65208809.0</td>\n",
       "      <td>Male</td>\n",
       "      <td>2064-04-22</td>\n",
       "      <td>VA</td>\n",
       "      <td>286-128-6132</td>\n",
       "      <td>Platinum</td>\n",
       "      <td>both</td>\n",
       "      <td>0</td>\n",
       "      <td>-41</td>\n",
       "    </tr>\n",
       "    <tr>\n",
       "      <th>1055</th>\n",
       "      <td>43042986</td>\n",
       "      <td>58451506</td>\n",
       "      <td>Natural causes</td>\n",
       "      <td>2018-10-30</td>\n",
       "      <td>Auto</td>\n",
       "      <td>No</td>\n",
       "      <td>Material only</td>\n",
       "      <td>2420.0</td>\n",
       "      <td>1.0</td>\n",
       "      <td>No</td>\n",
       "      <td>58451506.0</td>\n",
       "      <td>Male</td>\n",
       "      <td>2068-04-22</td>\n",
       "      <td>FL</td>\n",
       "      <td>673-574-7823</td>\n",
       "      <td>Gold</td>\n",
       "      <td>both</td>\n",
       "      <td>0</td>\n",
       "      <td>-45</td>\n",
       "    </tr>\n",
       "    <tr>\n",
       "      <th>977</th>\n",
       "      <td>9261301</td>\n",
       "      <td>53042145</td>\n",
       "      <td>Other causes</td>\n",
       "      <td>2018-10-23</td>\n",
       "      <td>Auto</td>\n",
       "      <td>Unknown</td>\n",
       "      <td>Material only</td>\n",
       "      <td>2553.0</td>\n",
       "      <td>4.0</td>\n",
       "      <td>Yes</td>\n",
       "      <td>53042145.0</td>\n",
       "      <td>Female</td>\n",
       "      <td>2064-10-04</td>\n",
       "      <td>TN</td>\n",
       "      <td>139-746-7128</td>\n",
       "      <td>Platinum</td>\n",
       "      <td>both</td>\n",
       "      <td>0</td>\n",
       "      <td>-41</td>\n",
       "    </tr>\n",
       "    <tr>\n",
       "      <th>728</th>\n",
       "      <td>26678377</td>\n",
       "      <td>28590552</td>\n",
       "      <td>Other causes</td>\n",
       "      <td>2018-10-23</td>\n",
       "      <td>Auto</td>\n",
       "      <td>Unknown</td>\n",
       "      <td>Material and injury</td>\n",
       "      <td>25160.0</td>\n",
       "      <td>1.0</td>\n",
       "      <td>No</td>\n",
       "      <td>28590552.0</td>\n",
       "      <td>Female</td>\n",
       "      <td>2064-01-10</td>\n",
       "      <td>TN</td>\n",
       "      <td>189-813-7561</td>\n",
       "      <td>Silver</td>\n",
       "      <td>both</td>\n",
       "      <td>1</td>\n",
       "      <td>-41</td>\n",
       "    </tr>\n",
       "    <tr>\n",
       "      <th>...</th>\n",
       "      <td>...</td>\n",
       "      <td>...</td>\n",
       "      <td>...</td>\n",
       "      <td>...</td>\n",
       "      <td>...</td>\n",
       "      <td>...</td>\n",
       "      <td>...</td>\n",
       "      <td>...</td>\n",
       "      <td>...</td>\n",
       "      <td>...</td>\n",
       "      <td>...</td>\n",
       "      <td>...</td>\n",
       "      <td>...</td>\n",
       "      <td>...</td>\n",
       "      <td>...</td>\n",
       "      <td>...</td>\n",
       "      <td>...</td>\n",
       "      <td>...</td>\n",
       "      <td>...</td>\n",
       "    </tr>\n",
       "    <tr>\n",
       "      <th>208</th>\n",
       "      <td>43722644</td>\n",
       "      <td>36395486</td>\n",
       "      <td>Other causes</td>\n",
       "      <td>2017-01-07</td>\n",
       "      <td>Home</td>\n",
       "      <td>No</td>\n",
       "      <td>Material only</td>\n",
       "      <td>3335.0</td>\n",
       "      <td>3.0</td>\n",
       "      <td>Yes</td>\n",
       "      <td>36395486.0</td>\n",
       "      <td>Male</td>\n",
       "      <td>2071-03-06</td>\n",
       "      <td>ND</td>\n",
       "      <td>365-482-4683</td>\n",
       "      <td>Gold</td>\n",
       "      <td>both</td>\n",
       "      <td>0</td>\n",
       "      <td>-48</td>\n",
       "    </tr>\n",
       "    <tr>\n",
       "      <th>291</th>\n",
       "      <td>11682102</td>\n",
       "      <td>24579061</td>\n",
       "      <td>Natural causes</td>\n",
       "      <td>2017-01-07</td>\n",
       "      <td>Auto</td>\n",
       "      <td>No</td>\n",
       "      <td>Material only</td>\n",
       "      <td>1770.0</td>\n",
       "      <td>1.0</td>\n",
       "      <td>No</td>\n",
       "      <td>24579061.0</td>\n",
       "      <td>Female</td>\n",
       "      <td>2067-11-24</td>\n",
       "      <td>IN</td>\n",
       "      <td>763-365-2837</td>\n",
       "      <td>Platinum</td>\n",
       "      <td>both</td>\n",
       "      <td>0</td>\n",
       "      <td>-44</td>\n",
       "    </tr>\n",
       "    <tr>\n",
       "      <th>739</th>\n",
       "      <td>58878919</td>\n",
       "      <td>29323970</td>\n",
       "      <td>Driver error</td>\n",
       "      <td>2017-01-01</td>\n",
       "      <td>Auto</td>\n",
       "      <td>Unknown</td>\n",
       "      <td>Material only</td>\n",
       "      <td>1840.0</td>\n",
       "      <td>1.0</td>\n",
       "      <td>Yes</td>\n",
       "      <td>29323970.0</td>\n",
       "      <td>Male</td>\n",
       "      <td>2071-03-03</td>\n",
       "      <td>NE</td>\n",
       "      <td>783-653-9163</td>\n",
       "      <td>Gold</td>\n",
       "      <td>both</td>\n",
       "      <td>0</td>\n",
       "      <td>-48</td>\n",
       "    </tr>\n",
       "    <tr>\n",
       "      <th>577</th>\n",
       "      <td>97666948</td>\n",
       "      <td>97514724</td>\n",
       "      <td>Driver error</td>\n",
       "      <td>2017-01-01</td>\n",
       "      <td>Home</td>\n",
       "      <td>No</td>\n",
       "      <td>Injury only</td>\n",
       "      <td>19120.0</td>\n",
       "      <td>1.0</td>\n",
       "      <td>No</td>\n",
       "      <td>97514724.0</td>\n",
       "      <td>Male</td>\n",
       "      <td>2069-06-08</td>\n",
       "      <td>FL</td>\n",
       "      <td>641-684-7986</td>\n",
       "      <td>Platinum</td>\n",
       "      <td>both</td>\n",
       "      <td>1</td>\n",
       "      <td>-46</td>\n",
       "    </tr>\n",
       "    <tr>\n",
       "      <th>116</th>\n",
       "      <td>39131766</td>\n",
       "      <td>39587790</td>\n",
       "      <td>Other causes</td>\n",
       "      <td>2017-01-01</td>\n",
       "      <td>Auto</td>\n",
       "      <td>No</td>\n",
       "      <td>Material only</td>\n",
       "      <td>2967.0</td>\n",
       "      <td>1.0</td>\n",
       "      <td>Yes</td>\n",
       "      <td>39587790.0</td>\n",
       "      <td>Male</td>\n",
       "      <td>2065-01-10</td>\n",
       "      <td>LA</td>\n",
       "      <td>615-154-3516</td>\n",
       "      <td>Gold</td>\n",
       "      <td>both</td>\n",
       "      <td>0</td>\n",
       "      <td>-42</td>\n",
       "    </tr>\n",
       "  </tbody>\n",
       "</table>\n",
       "<p>352 rows × 19 columns</p>\n",
       "</div>"
      ],
      "text/plain": [
       "      claim_id  customer_id  incident_cause claim_date claim_area  \\\n",
       "282   99775483     93915431    Other causes 2018-10-30       Auto   \n",
       "1077  91386759     65208809  Natural causes 2018-10-30       Auto   \n",
       "1055  43042986     58451506  Natural causes 2018-10-30       Auto   \n",
       "977    9261301     53042145    Other causes 2018-10-23       Auto   \n",
       "728   26678377     28590552    Other causes 2018-10-23       Auto   \n",
       "...        ...          ...             ...        ...        ...   \n",
       "208   43722644     36395486    Other causes 2017-01-07       Home   \n",
       "291   11682102     24579061  Natural causes 2017-01-07       Auto   \n",
       "739   58878919     29323970    Driver error 2017-01-01       Auto   \n",
       "577   97666948     97514724    Driver error 2017-01-01       Home   \n",
       "116   39131766     39587790    Other causes 2017-01-01       Auto   \n",
       "\n",
       "     police_report           claim_type  claim_amount  total_policy_claims  \\\n",
       "282             No  Material and injury       42124.5                  1.0   \n",
       "1077            No        Material only        2290.0                  1.0   \n",
       "1055            No        Material only        2420.0                  1.0   \n",
       "977        Unknown        Material only        2553.0                  4.0   \n",
       "728        Unknown  Material and injury       25160.0                  1.0   \n",
       "...            ...                  ...           ...                  ...   \n",
       "208             No        Material only        3335.0                  3.0   \n",
       "291             No        Material only        1770.0                  1.0   \n",
       "739        Unknown        Material only        1840.0                  1.0   \n",
       "577             No          Injury only       19120.0                  1.0   \n",
       "116             No        Material only        2967.0                  1.0   \n",
       "\n",
       "     fraudulent     CUST_ID  gender DateOfBirth State       Contact   Segment  \\\n",
       "282         Yes  93915431.0    Male  2067-09-08    ME  134-785-1687      Gold   \n",
       "1077         No  65208809.0    Male  2064-04-22    VA  286-128-6132  Platinum   \n",
       "1055         No  58451506.0    Male  2068-04-22    FL  673-574-7823      Gold   \n",
       "977         Yes  53042145.0  Female  2064-10-04    TN  139-746-7128  Platinum   \n",
       "728          No  28590552.0  Female  2064-01-10    TN  189-813-7561    Silver   \n",
       "...         ...         ...     ...         ...   ...           ...       ...   \n",
       "208         Yes  36395486.0    Male  2071-03-06    ND  365-482-4683      Gold   \n",
       "291          No  24579061.0  Female  2067-11-24    IN  763-365-2837  Platinum   \n",
       "739         Yes  29323970.0    Male  2071-03-03    NE  783-653-9163      Gold   \n",
       "577          No  97514724.0    Male  2069-06-08    FL  641-684-7986  Platinum   \n",
       "116         Yes  39587790.0    Male  2065-01-10    LA  615-154-3516      Gold   \n",
       "\n",
       "     _merge  Alert Flag  Age  \n",
       "282    both           1  -44  \n",
       "1077   both           0  -41  \n",
       "1055   both           0  -45  \n",
       "977    both           0  -41  \n",
       "728    both           1  -41  \n",
       "...     ...         ...  ...  \n",
       "208    both           0  -48  \n",
       "291    both           0  -44  \n",
       "739    both           0  -48  \n",
       "577    both           1  -46  \n",
       "116    both           0  -42  \n",
       "\n",
       "[352 rows x 19 columns]"
      ]
     },
     "execution_count": 39,
     "metadata": {},
     "output_type": "execute_result"
    }
   ],
   "source": [
    "#Negative ages are not possible and it's probably a human error that the years have been entered as 2067 insead of 1967\n",
    "\n",
    "cust_claims.loc[cust_claims.Age<0]"
   ]
  },
  {
   "cell_type": "code",
   "execution_count": 40,
   "id": "450a0b19",
   "metadata": {},
   "outputs": [],
   "source": [
    "cust_claims['Age']= np.where(cust_claims.Age<0, (pd.Timestamp.now().year- ((cust_claims.DateOfBirth- pd.offsets.DateOffset(years=100)).dt.year)), cust_claims.Age) "
   ]
  },
  {
   "cell_type": "code",
   "execution_count": 41,
   "id": "f194d1fd",
   "metadata": {},
   "outputs": [],
   "source": [
    "#Also updating the years in Date of birth column\n",
    "cust_claims['DateOfBirth']= np.where(cust_claims.Age<0, (cust_claims.DateOfBirth- pd.offsets.DateOffset(years=100)), cust_claims.DateOfBirth) "
   ]
  },
  {
   "cell_type": "code",
   "execution_count": 42,
   "id": "759ab279",
   "metadata": {},
   "outputs": [],
   "source": [
    "cust_claims['Age group']=pd.cut(cust_claims.Age,  bins=[0,18, 30, 60, 100] , labels=['Children', 'Youth', 'Adult', 'Senior'])"
   ]
  },
  {
   "cell_type": "code",
   "execution_count": 43,
   "id": "41c648c3",
   "metadata": {},
   "outputs": [
    {
     "data": {
      "text/html": [
       "<div>\n",
       "<style scoped>\n",
       "    .dataframe tbody tr th:only-of-type {\n",
       "        vertical-align: middle;\n",
       "    }\n",
       "\n",
       "    .dataframe tbody tr th {\n",
       "        vertical-align: top;\n",
       "    }\n",
       "\n",
       "    .dataframe thead th {\n",
       "        text-align: right;\n",
       "    }\n",
       "</style>\n",
       "<table border=\"1\" class=\"dataframe\">\n",
       "  <thead>\n",
       "    <tr style=\"text-align: right;\">\n",
       "      <th></th>\n",
       "      <th>claim_id</th>\n",
       "      <th>customer_id</th>\n",
       "      <th>incident_cause</th>\n",
       "      <th>claim_date</th>\n",
       "      <th>claim_area</th>\n",
       "      <th>police_report</th>\n",
       "      <th>claim_type</th>\n",
       "      <th>claim_amount</th>\n",
       "      <th>total_policy_claims</th>\n",
       "      <th>fraudulent</th>\n",
       "      <th>CUST_ID</th>\n",
       "      <th>gender</th>\n",
       "      <th>DateOfBirth</th>\n",
       "      <th>State</th>\n",
       "      <th>Contact</th>\n",
       "      <th>Segment</th>\n",
       "      <th>_merge</th>\n",
       "      <th>Alert Flag</th>\n",
       "      <th>Age</th>\n",
       "      <th>Age group</th>\n",
       "    </tr>\n",
       "  </thead>\n",
       "  <tbody>\n",
       "    <tr>\n",
       "      <th>282</th>\n",
       "      <td>99775483</td>\n",
       "      <td>93915431</td>\n",
       "      <td>Other causes</td>\n",
       "      <td>2018-10-30</td>\n",
       "      <td>Auto</td>\n",
       "      <td>No</td>\n",
       "      <td>Material and injury</td>\n",
       "      <td>42124.500000</td>\n",
       "      <td>1.0</td>\n",
       "      <td>Yes</td>\n",
       "      <td>93915431.0</td>\n",
       "      <td>Male</td>\n",
       "      <td>2067-09-08</td>\n",
       "      <td>ME</td>\n",
       "      <td>134-785-1687</td>\n",
       "      <td>Gold</td>\n",
       "      <td>both</td>\n",
       "      <td>1</td>\n",
       "      <td>56</td>\n",
       "      <td>Adult</td>\n",
       "    </tr>\n",
       "    <tr>\n",
       "      <th>350</th>\n",
       "      <td>98795403</td>\n",
       "      <td>38011078</td>\n",
       "      <td>Crime</td>\n",
       "      <td>2018-10-30</td>\n",
       "      <td>Auto</td>\n",
       "      <td>Unknown</td>\n",
       "      <td>Material only</td>\n",
       "      <td>1940.000000</td>\n",
       "      <td>1.0</td>\n",
       "      <td>No</td>\n",
       "      <td>38011078.0</td>\n",
       "      <td>Female</td>\n",
       "      <td>1976-05-20</td>\n",
       "      <td>NE</td>\n",
       "      <td>271-123-1475</td>\n",
       "      <td>Gold</td>\n",
       "      <td>both</td>\n",
       "      <td>0</td>\n",
       "      <td>47</td>\n",
       "      <td>Adult</td>\n",
       "    </tr>\n",
       "    <tr>\n",
       "      <th>1077</th>\n",
       "      <td>91386759</td>\n",
       "      <td>65208809</td>\n",
       "      <td>Natural causes</td>\n",
       "      <td>2018-10-30</td>\n",
       "      <td>Auto</td>\n",
       "      <td>No</td>\n",
       "      <td>Material only</td>\n",
       "      <td>2290.000000</td>\n",
       "      <td>1.0</td>\n",
       "      <td>No</td>\n",
       "      <td>65208809.0</td>\n",
       "      <td>Male</td>\n",
       "      <td>2064-04-22</td>\n",
       "      <td>VA</td>\n",
       "      <td>286-128-6132</td>\n",
       "      <td>Platinum</td>\n",
       "      <td>both</td>\n",
       "      <td>0</td>\n",
       "      <td>59</td>\n",
       "      <td>Adult</td>\n",
       "    </tr>\n",
       "    <tr>\n",
       "      <th>751</th>\n",
       "      <td>25213498</td>\n",
       "      <td>28932340</td>\n",
       "      <td>Driver error</td>\n",
       "      <td>2018-10-30</td>\n",
       "      <td>Auto</td>\n",
       "      <td>Unknown</td>\n",
       "      <td>Material only</td>\n",
       "      <td>12501.726555</td>\n",
       "      <td>1.0</td>\n",
       "      <td>No</td>\n",
       "      <td>28932340.0</td>\n",
       "      <td>Male</td>\n",
       "      <td>1996-01-05</td>\n",
       "      <td>LA</td>\n",
       "      <td>652-265-8231</td>\n",
       "      <td>Gold</td>\n",
       "      <td>both</td>\n",
       "      <td>0</td>\n",
       "      <td>27</td>\n",
       "      <td>Youth</td>\n",
       "    </tr>\n",
       "    <tr>\n",
       "      <th>318</th>\n",
       "      <td>87329176</td>\n",
       "      <td>77510822</td>\n",
       "      <td>Other driver error</td>\n",
       "      <td>2018-10-30</td>\n",
       "      <td>Auto</td>\n",
       "      <td>Unknown</td>\n",
       "      <td>Material only</td>\n",
       "      <td>12501.726555</td>\n",
       "      <td>2.0</td>\n",
       "      <td>No</td>\n",
       "      <td>77510822.0</td>\n",
       "      <td>Female</td>\n",
       "      <td>1986-03-18</td>\n",
       "      <td>AK</td>\n",
       "      <td>436-934-7156</td>\n",
       "      <td>Silver</td>\n",
       "      <td>both</td>\n",
       "      <td>0</td>\n",
       "      <td>37</td>\n",
       "      <td>Adult</td>\n",
       "    </tr>\n",
       "  </tbody>\n",
       "</table>\n",
       "</div>"
      ],
      "text/plain": [
       "      claim_id  customer_id      incident_cause claim_date claim_area  \\\n",
       "282   99775483     93915431        Other causes 2018-10-30       Auto   \n",
       "350   98795403     38011078               Crime 2018-10-30       Auto   \n",
       "1077  91386759     65208809      Natural causes 2018-10-30       Auto   \n",
       "751   25213498     28932340        Driver error 2018-10-30       Auto   \n",
       "318   87329176     77510822  Other driver error 2018-10-30       Auto   \n",
       "\n",
       "     police_report           claim_type  claim_amount  total_policy_claims  \\\n",
       "282             No  Material and injury  42124.500000                  1.0   \n",
       "350        Unknown        Material only   1940.000000                  1.0   \n",
       "1077            No        Material only   2290.000000                  1.0   \n",
       "751        Unknown        Material only  12501.726555                  1.0   \n",
       "318        Unknown        Material only  12501.726555                  2.0   \n",
       "\n",
       "     fraudulent     CUST_ID  gender DateOfBirth State       Contact   Segment  \\\n",
       "282         Yes  93915431.0    Male  2067-09-08    ME  134-785-1687      Gold   \n",
       "350          No  38011078.0  Female  1976-05-20    NE  271-123-1475      Gold   \n",
       "1077         No  65208809.0    Male  2064-04-22    VA  286-128-6132  Platinum   \n",
       "751          No  28932340.0    Male  1996-01-05    LA  652-265-8231      Gold   \n",
       "318          No  77510822.0  Female  1986-03-18    AK  436-934-7156    Silver   \n",
       "\n",
       "     _merge  Alert Flag  Age Age group  \n",
       "282    both           1   56     Adult  \n",
       "350    both           0   47     Adult  \n",
       "1077   both           0   59     Adult  \n",
       "751    both           0   27     Youth  \n",
       "318    both           0   37     Adult  "
      ]
     },
     "execution_count": 43,
     "metadata": {},
     "output_type": "execute_result"
    }
   ],
   "source": [
    "cust_claims.head()"
   ]
  },
  {
   "cell_type": "markdown",
   "id": "d75e652b",
   "metadata": {},
   "source": [
    "### 8. What is the average amount claimed by the customers from various segments?"
   ]
  },
  {
   "cell_type": "code",
   "execution_count": 44,
   "id": "131f2966",
   "metadata": {},
   "outputs": [
    {
     "data": {
      "text/plain": [
       "Segment\n",
       "Gold        12846.40\n",
       "Platinum    12371.65\n",
       "Silver      12267.86\n",
       "Name: claim_amount, dtype: float64"
      ]
     },
     "execution_count": 44,
     "metadata": {},
     "output_type": "execute_result"
    }
   ],
   "source": [
    "round(cust_claims.groupby(cust_claims.Segment)['claim_amount'].mean(),2)"
   ]
  },
  {
   "cell_type": "markdown",
   "id": "7e47efcd",
   "metadata": {},
   "source": [
    "### 9. What is the total claim amount based on incident cause for all the claims that have been done at least 20 days prior to 1st of October, 2018."
   ]
  },
  {
   "cell_type": "code",
   "execution_count": 45,
   "id": "20ff75e4",
   "metadata": {},
   "outputs": [],
   "source": [
    "q9_df= cust_claims[cust_claims.claim_date<pd.to_datetime('10-01-2018')- pd.offsets.DateOffset(days=20)]"
   ]
  },
  {
   "cell_type": "code",
   "execution_count": 46,
   "id": "b4593a4a",
   "metadata": {},
   "outputs": [
    {
     "data": {
      "text/plain": [
       "incident_cause\n",
       "Crime                 7.219386e+05\n",
       "Driver error          3.315851e+06\n",
       "Natural causes        1.312987e+06\n",
       "Other causes          3.723152e+06\n",
       "Other driver error    3.277536e+06\n",
       "Name: claim_amount, dtype: float64"
      ]
     },
     "execution_count": 46,
     "metadata": {},
     "output_type": "execute_result"
    }
   ],
   "source": [
    "q9_df.groupby(q9_df.incident_cause)['claim_amount'].sum()"
   ]
  },
  {
   "cell_type": "markdown",
   "id": "2bb8597d",
   "metadata": {},
   "source": [
    "### 10. How many adults from TX, DE and AK claimed insurance for driver related issues and causes?"
   ]
  },
  {
   "cell_type": "code",
   "execution_count": 47,
   "id": "dd4cba5b",
   "metadata": {},
   "outputs": [
    {
     "data": {
      "text/plain": [
       "27"
      ]
     },
     "execution_count": 47,
     "metadata": {},
     "output_type": "execute_result"
    }
   ],
   "source": [
    "cust_claims[(cust_claims.State.isin(['TX','DE','AK'])) & (cust_claims['Age group']=='Adult') & (cust_claims.incident_cause.str.lower().str.contains('driver'))].shape[0]"
   ]
  },
  {
   "cell_type": "markdown",
   "id": "e0e0cdea",
   "metadata": {},
   "source": [
    "### 11. Draw a pie chart between the aggregated value of claim amount based on gender and segment. Represent the claim amount as a percentage on the pie chart."
   ]
  },
  {
   "cell_type": "code",
   "execution_count": 48,
   "id": "ac7c8e4a",
   "metadata": {},
   "outputs": [],
   "source": [
    "# cust_claims.groupby(['Segment','gender'])['claim_amount'].sum()"
   ]
  },
  {
   "cell_type": "code",
   "execution_count": 49,
   "id": "742afb29",
   "metadata": {},
   "outputs": [],
   "source": [
    "seg_gen= cust_claims.pivot_table(index='Segment',columns='gender', values='claim_amount', aggfunc=sum)"
   ]
  },
  {
   "cell_type": "code",
   "execution_count": 50,
   "id": "41732fbf",
   "metadata": {},
   "outputs": [
    {
     "data": {
      "text/html": [
       "<div>\n",
       "<style scoped>\n",
       "    .dataframe tbody tr th:only-of-type {\n",
       "        vertical-align: middle;\n",
       "    }\n",
       "\n",
       "    .dataframe tbody tr th {\n",
       "        vertical-align: top;\n",
       "    }\n",
       "\n",
       "    .dataframe thead th {\n",
       "        text-align: right;\n",
       "    }\n",
       "</style>\n",
       "<table border=\"1\" class=\"dataframe\">\n",
       "  <thead>\n",
       "    <tr style=\"text-align: right;\">\n",
       "      <th>gender</th>\n",
       "      <th>Female</th>\n",
       "      <th>Male</th>\n",
       "    </tr>\n",
       "    <tr>\n",
       "      <th>Segment</th>\n",
       "      <th></th>\n",
       "      <th></th>\n",
       "    </tr>\n",
       "  </thead>\n",
       "  <tbody>\n",
       "    <tr>\n",
       "      <th>Gold</th>\n",
       "      <td>2.110045e+06</td>\n",
       "      <td>2.655970e+06</td>\n",
       "    </tr>\n",
       "    <tr>\n",
       "      <th>Platinum</th>\n",
       "      <td>2.369722e+06</td>\n",
       "      <td>2.096445e+06</td>\n",
       "    </tr>\n",
       "    <tr>\n",
       "      <th>Silver</th>\n",
       "      <td>1.897545e+06</td>\n",
       "      <td>2.347134e+06</td>\n",
       "    </tr>\n",
       "  </tbody>\n",
       "</table>\n",
       "</div>"
      ],
      "text/plain": [
       "gender          Female          Male\n",
       "Segment                             \n",
       "Gold      2.110045e+06  2.655970e+06\n",
       "Platinum  2.369722e+06  2.096445e+06\n",
       "Silver    1.897545e+06  2.347134e+06"
      ]
     },
     "execution_count": 50,
     "metadata": {},
     "output_type": "execute_result"
    }
   ],
   "source": [
    "seg_gen"
   ]
  },
  {
   "cell_type": "code",
   "execution_count": 51,
   "id": "c03ea55d",
   "metadata": {},
   "outputs": [
    {
     "data": {
      "text/plain": [
       "array([<AxesSubplot:ylabel='Gold'>, <AxesSubplot:ylabel='Platinum'>,\n",
       "       <AxesSubplot:ylabel='Silver'>], dtype=object)"
      ]
     },
     "execution_count": 51,
     "metadata": {},
     "output_type": "execute_result"
    },
    {
     "data": {
      "image/png": "[encoded data removed]",
      "text/plain": [
       "<Figure size 1080x576 with 3 Axes>"
      ]
     },
     "metadata": {},
     "output_type": "display_data"
    }
   ],
   "source": [
    "seg_gen.T.plot(kind='pie', subplots=True, figsize=(15,8),legend=False, autopct='%1.1f%%')"
   ]
  },
  {
   "cell_type": "markdown",
   "id": "4be4120c",
   "metadata": {},
   "source": [
    "### 12. Among males and females, which gender had claimed the most for any type of driver related issues? E.g. This metric can be compared using a bar chart."
   ]
  },
  {
   "cell_type": "code",
   "execution_count": 52,
   "id": "9f79ea3d",
   "metadata": {},
   "outputs": [
    {
     "data": {
      "text/plain": [
       "<AxesSubplot:xlabel='gender', ylabel='number of driver related claims'>"
      ]
     },
     "execution_count": 52,
     "metadata": {},
     "output_type": "execute_result"
    },
    {
     "data": {
      "image/png": "[encoded data removed]",
      "text/plain": [
       "<Figure size 432x288 with 1 Axes>"
      ]
     },
     "metadata": {
      "needs_background": "light"
     },
     "output_type": "display_data"
    }
   ],
   "source": [
    "cust_claims[cust_claims.incident_cause.str.lower().str.contains('driver')].groupby('gender')['claim_id'].count().plot(kind='bar',ylabel= 'number of driver related claims')"
   ]
  },
  {
   "cell_type": "raw",
   "id": "63332ee4",
   "metadata": {},
   "source": [
    "Clearly Males have claimed more for any driver related issues. "
   ]
  },
  {
   "cell_type": "markdown",
   "id": "98252a2a",
   "metadata": {},
   "source": [
    "### 13. Which age group had the maximum fraudulent policy claims? Visualize it on a bar chart."
   ]
  },
  {
   "cell_type": "code",
   "execution_count": 53,
   "id": "dbce5706",
   "metadata": {},
   "outputs": [
    {
     "data": {
      "text/plain": [
       "<AxesSubplot:xlabel='Age group', ylabel='Number of fradulent claims'>"
      ]
     },
     "execution_count": 53,
     "metadata": {},
     "output_type": "execute_result"
    },
    {
     "data": {
      "image/png": "[encoded data removed]",
      "text/plain": [
       "<Figure size 432x288 with 1 Axes>"
      ]
     },
     "metadata": {
      "needs_background": "light"
     },
     "output_type": "display_data"
    }
   ],
   "source": [
    "cust_claims[cust_claims.fraudulent.str.lower()=='yes'].groupby('Age group')['claim_id'].count().plot(kind='bar', ylabel= 'Number of fradulent claims')"
   ]
  },
  {
   "cell_type": "raw",
   "id": "2daa16c6",
   "metadata": {},
   "source": [
    "Clearly Adults have claimed maxium number of fradulent poilicies follwed by youth and seniors.Children have no fradulaent claims."
   ]
  },
  {
   "cell_type": "markdown",
   "id": "aa32209c",
   "metadata": {},
   "source": [
    "### 14. Visualize the monthly trend of the total amount that has been claimed by the customers. Ensure that on the “month” axis, the month is in a chronological order not alphabetical order."
   ]
  },
  {
   "cell_type": "code",
   "execution_count": 54,
   "id": "bd006fbe",
   "metadata": {},
   "outputs": [
    {
     "data": {
      "text/plain": [
       "<AxesSubplot:xlabel='Month', ylabel='total claim amount'>"
      ]
     },
     "execution_count": 54,
     "metadata": {},
     "output_type": "execute_result"
    },
    {
     "data": {
      "image/png": "[encoded data removed]",
      "text/plain": [
       "<Figure size 432x288 with 1 Axes>"
      ]
     },
     "metadata": {
      "needs_background": "light"
     },
     "output_type": "display_data"
    }
   ],
   "source": [
    "cust_claims.groupby([cust_claims.claim_date.dt.month, cust_claims.claim_date.dt.month_name()])['claim_amount'].sum().plot(kind='bar',xlabel='Month', ylabel='total claim amount')"
   ]
  },
  {
   "cell_type": "raw",
   "id": "b4433202",
   "metadata": {},
   "source": [
    "Most claims have been made in October and least in November. "
   ]
  },
  {
   "cell_type": "markdown",
   "id": "157a56ad",
   "metadata": {},
   "source": [
    "### 15. What is the average claim amount for gender and age categories and suitably represent the above using a facetted bar chart, one facet that represents fraudulent claims and the other for non-fraudulent claims. "
   ]
  },
  {
   "cell_type": "code",
   "execution_count": 140,
   "id": "446c1f1a",
   "metadata": {},
   "outputs": [
    {
     "data": {
      "text/html": [
       "<div>\n",
       "<style scoped>\n",
       "    .dataframe tbody tr th:only-of-type {\n",
       "        vertical-align: middle;\n",
       "    }\n",
       "\n",
       "    .dataframe tbody tr th {\n",
       "        vertical-align: top;\n",
       "    }\n",
       "\n",
       "    .dataframe thead th {\n",
       "        text-align: right;\n",
       "    }\n",
       "</style>\n",
       "<table border=\"1\" class=\"dataframe\">\n",
       "  <thead>\n",
       "    <tr style=\"text-align: right;\">\n",
       "      <th></th>\n",
       "      <th></th>\n",
       "      <th>Fraud_claim_amount</th>\n",
       "    </tr>\n",
       "    <tr>\n",
       "      <th>gender</th>\n",
       "      <th>Age group</th>\n",
       "      <th></th>\n",
       "    </tr>\n",
       "  </thead>\n",
       "  <tbody>\n",
       "    <tr>\n",
       "      <th rowspan=\"4\" valign=\"top\">Female</th>\n",
       "      <th>Children</th>\n",
       "      <td>NaN</td>\n",
       "    </tr>\n",
       "    <tr>\n",
       "      <th>Youth</th>\n",
       "      <td>9220.495534</td>\n",
       "    </tr>\n",
       "    <tr>\n",
       "      <th>Adult</th>\n",
       "      <td>12630.113839</td>\n",
       "    </tr>\n",
       "    <tr>\n",
       "      <th>Senior</th>\n",
       "      <td>3779.076923</td>\n",
       "    </tr>\n",
       "    <tr>\n",
       "      <th rowspan=\"4\" valign=\"top\">Male</th>\n",
       "      <th>Children</th>\n",
       "      <td>NaN</td>\n",
       "    </tr>\n",
       "    <tr>\n",
       "      <th>Youth</th>\n",
       "      <td>7799.623697</td>\n",
       "    </tr>\n",
       "    <tr>\n",
       "      <th>Adult</th>\n",
       "      <td>16049.184674</td>\n",
       "    </tr>\n",
       "    <tr>\n",
       "      <th>Senior</th>\n",
       "      <td>16879.125000</td>\n",
       "    </tr>\n",
       "  </tbody>\n",
       "</table>\n",
       "</div>"
      ],
      "text/plain": [
       "                  Fraud_claim_amount\n",
       "gender Age group                    \n",
       "Female Children                  NaN\n",
       "       Youth             9220.495534\n",
       "       Adult            12630.113839\n",
       "       Senior            3779.076923\n",
       "Male   Children                  NaN\n",
       "       Youth             7799.623697\n",
       "       Adult            16049.184674\n",
       "       Senior           16879.125000"
      ]
     },
     "execution_count": 140,
     "metadata": {},
     "output_type": "execute_result"
    }
   ],
   "source": [
    "fraud_age_gender_amt= pd.DataFrame(cust_claims[cust_claims.fraudulent.str.lower()=='yes'].groupby([\"gender\",\"Age group\"])[[\"claim_amount\"]].mean().add_prefix(\"Fraud_\"))\n",
    "fraud_age_gender_amt"
   ]
  },
  {
   "cell_type": "code",
   "execution_count": 144,
   "id": "6a4dba35",
   "metadata": {},
   "outputs": [
    {
     "data": {
      "text/html": [
       "<div>\n",
       "<style scoped>\n",
       "    .dataframe tbody tr th:only-of-type {\n",
       "        vertical-align: middle;\n",
       "    }\n",
       "\n",
       "    .dataframe tbody tr th {\n",
       "        vertical-align: top;\n",
       "    }\n",
       "\n",
       "    .dataframe thead th {\n",
       "        text-align: right;\n",
       "    }\n",
       "</style>\n",
       "<table border=\"1\" class=\"dataframe\">\n",
       "  <thead>\n",
       "    <tr style=\"text-align: right;\">\n",
       "      <th></th>\n",
       "      <th></th>\n",
       "      <th>Authentic_claim_amount</th>\n",
       "    </tr>\n",
       "    <tr>\n",
       "      <th>gender</th>\n",
       "      <th>Age group</th>\n",
       "      <th></th>\n",
       "    </tr>\n",
       "  </thead>\n",
       "  <tbody>\n",
       "    <tr>\n",
       "      <th rowspan=\"4\" valign=\"top\">Female</th>\n",
       "      <th>Children</th>\n",
       "      <td>NaN</td>\n",
       "    </tr>\n",
       "    <tr>\n",
       "      <th>Youth</th>\n",
       "      <td>13174.551022</td>\n",
       "    </tr>\n",
       "    <tr>\n",
       "      <th>Adult</th>\n",
       "      <td>11982.841119</td>\n",
       "    </tr>\n",
       "    <tr>\n",
       "      <th>Senior</th>\n",
       "      <td>14965.431639</td>\n",
       "    </tr>\n",
       "    <tr>\n",
       "      <th rowspan=\"4\" valign=\"top\">Male</th>\n",
       "      <th>Children</th>\n",
       "      <td>NaN</td>\n",
       "    </tr>\n",
       "    <tr>\n",
       "      <th>Youth</th>\n",
       "      <td>12089.549538</td>\n",
       "    </tr>\n",
       "    <tr>\n",
       "      <th>Adult</th>\n",
       "      <td>12375.035967</td>\n",
       "    </tr>\n",
       "    <tr>\n",
       "      <th>Senior</th>\n",
       "      <td>12607.781770</td>\n",
       "    </tr>\n",
       "  </tbody>\n",
       "</table>\n",
       "</div>"
      ],
      "text/plain": [
       "                  Authentic_claim_amount\n",
       "gender Age group                        \n",
       "Female Children                      NaN\n",
       "       Youth                13174.551022\n",
       "       Adult                11982.841119\n",
       "       Senior               14965.431639\n",
       "Male   Children                      NaN\n",
       "       Youth                12089.549538\n",
       "       Adult                12375.035967\n",
       "       Senior               12607.781770"
      ]
     },
     "execution_count": 144,
     "metadata": {},
     "output_type": "execute_result"
    }
   ],
   "source": [
    "authentic_age_gender_amt=pd.DataFrame(cust_claims[cust_claims.fraudulent.str.lower()!='yes'].groupby([\"gender\",\"Age group\"])[[\"claim_amount\"]].mean().add_prefix(\"Authentic_\"))\n",
    "authentic_age_gender_amt"
   ]
  },
  {
   "cell_type": "code",
   "execution_count": 145,
   "id": "6762734b",
   "metadata": {},
   "outputs": [
    {
     "data": {
      "text/html": [
       "<div>\n",
       "<style scoped>\n",
       "    .dataframe tbody tr th:only-of-type {\n",
       "        vertical-align: middle;\n",
       "    }\n",
       "\n",
       "    .dataframe tbody tr th {\n",
       "        vertical-align: top;\n",
       "    }\n",
       "\n",
       "    .dataframe thead th {\n",
       "        text-align: right;\n",
       "    }\n",
       "</style>\n",
       "<table border=\"1\" class=\"dataframe\">\n",
       "  <thead>\n",
       "    <tr style=\"text-align: right;\">\n",
       "      <th></th>\n",
       "      <th></th>\n",
       "      <th>Fraud_claim_amount</th>\n",
       "      <th>Authentic_claim_amount</th>\n",
       "    </tr>\n",
       "    <tr>\n",
       "      <th>gender</th>\n",
       "      <th>Age group</th>\n",
       "      <th></th>\n",
       "      <th></th>\n",
       "    </tr>\n",
       "  </thead>\n",
       "  <tbody>\n",
       "    <tr>\n",
       "      <th rowspan=\"4\" valign=\"top\">Female</th>\n",
       "      <th>Children</th>\n",
       "      <td>NaN</td>\n",
       "      <td>NaN</td>\n",
       "    </tr>\n",
       "    <tr>\n",
       "      <th>Youth</th>\n",
       "      <td>9220.50</td>\n",
       "      <td>13174.55</td>\n",
       "    </tr>\n",
       "    <tr>\n",
       "      <th>Adult</th>\n",
       "      <td>12630.11</td>\n",
       "      <td>11982.84</td>\n",
       "    </tr>\n",
       "    <tr>\n",
       "      <th>Senior</th>\n",
       "      <td>3779.08</td>\n",
       "      <td>14965.43</td>\n",
       "    </tr>\n",
       "    <tr>\n",
       "      <th rowspan=\"4\" valign=\"top\">Male</th>\n",
       "      <th>Children</th>\n",
       "      <td>NaN</td>\n",
       "      <td>NaN</td>\n",
       "    </tr>\n",
       "    <tr>\n",
       "      <th>Youth</th>\n",
       "      <td>7799.62</td>\n",
       "      <td>12089.55</td>\n",
       "    </tr>\n",
       "    <tr>\n",
       "      <th>Adult</th>\n",
       "      <td>16049.18</td>\n",
       "      <td>12375.04</td>\n",
       "    </tr>\n",
       "    <tr>\n",
       "      <th>Senior</th>\n",
       "      <td>16879.12</td>\n",
       "      <td>12607.78</td>\n",
       "    </tr>\n",
       "  </tbody>\n",
       "</table>\n",
       "</div>"
      ],
      "text/plain": [
       "                  Fraud_claim_amount  Authentic_claim_amount\n",
       "gender Age group                                            \n",
       "Female Children                  NaN                     NaN\n",
       "       Youth                 9220.50                13174.55\n",
       "       Adult                12630.11                11982.84\n",
       "       Senior                3779.08                14965.43\n",
       "Male   Children                  NaN                     NaN\n",
       "       Youth                 7799.62                12089.55\n",
       "       Adult                16049.18                12375.04\n",
       "       Senior               16879.12                12607.78"
      ]
     },
     "execution_count": 145,
     "metadata": {},
     "output_type": "execute_result"
    }
   ],
   "source": [
    "fraud_authentic_amt= round(pd.merge(fraud_age_gender_amt,authentic_age_gender_amt, on=[\"gender\",\"Age group\"]),2)\n",
    "fraud_authentic_amt"
   ]
  },
  {
   "cell_type": "code",
   "execution_count": 146,
   "id": "20569737",
   "metadata": {},
   "outputs": [
    {
     "data": {
      "image/png": "[encoded data removed]",
      "text/plain": [
       "<Figure size 720x720 with 2 Axes>"
      ]
     },
     "metadata": {
      "needs_background": "light"
     },
     "output_type": "display_data"
    }
   ],
   "source": [
    "fraud_authentic_amt.plot(kind=\"bar\", subplots= True, legend= True,figsize=(10,10))\n",
    "plt.show()"
   ]
  },
  {
   "cell_type": "markdown",
   "id": "3b9968c1",
   "metadata": {},
   "source": [
    "### Based on the conclusions from exploratory analysis as well as suitable statistical tests, answer the below questions. Please include a detailed write-up on the parameters taken into consideration, the Hypothesis testing steps, conclusion from the p-values and the business implications of the statements."
   ]
  },
  {
   "cell_type": "code",
   "execution_count": 60,
   "id": "7a300fc1",
   "metadata": {},
   "outputs": [],
   "source": [
    "import scipy.stats as stats"
   ]
  },
  {
   "cell_type": "markdown",
   "id": "b7ec0e2f",
   "metadata": {},
   "source": [
    "### 16. Is there any similarity in the amount claimed by males and females?"
   ]
  },
  {
   "cell_type": "code",
   "execution_count": 61,
   "id": "723d8762",
   "metadata": {},
   "outputs": [
    {
     "data": {
      "text/plain": [
       "gender\n",
       "Female    6.377312e+06\n",
       "Male      7.099550e+06\n",
       "Name: claim_amount, dtype: float64"
      ]
     },
     "execution_count": 61,
     "metadata": {},
     "output_type": "execute_result"
    }
   ],
   "source": [
    "cust_claims.groupby('gender')['claim_amount'].sum()"
   ]
  },
  {
   "cell_type": "raw",
   "id": "930f33fd",
   "metadata": {},
   "source": [
    "to check whether there is a similarity between the ammount claimed by males and females, we will compare means of amount claimed by males anf females. \n",
    "\n",
    "Ho- mean(males)= mean(females)\n",
    "H1- mean(males)<> mean(females) "
   ]
  },
  {
   "cell_type": "code",
   "execution_count": 62,
   "id": "0f8c1e7f",
   "metadata": {},
   "outputs": [
    {
     "name": "stdout",
     "output_type": "stream",
     "text": [
      "mean of male spend:  12884.85 | mean of female spend:  12101.16\n"
     ]
    }
   ],
   "source": [
    "amount = 'claim_amount'\n",
    "\n",
    "male_spend = cust_claims.loc[ cust_claims.gender == 'Male', amount ]\n",
    "female_spend = cust_claims.loc[ cust_claims.gender == 'Female', amount ]\n",
    "\n",
    "print( 'mean of male spend: ', round(male_spend.mean(),2), '| mean of female spend: ', round(female_spend.mean(),2) )"
   ]
  },
  {
   "cell_type": "raw",
   "id": "7977afd3",
   "metadata": {},
   "source": [
    "H0 - u1 = u2\n",
    "Ha - u1 <> u2\n",
    "\n",
    "CI - 95%\n",
    "p - 0.05"
   ]
  },
  {
   "cell_type": "markdown",
   "id": "63cc2a2e",
   "metadata": {},
   "source": [
    "#### Using t test to check the relation "
   ]
  },
  {
   "cell_type": "code",
   "execution_count": 63,
   "id": "55f2fcfb",
   "metadata": {},
   "outputs": [
    {
     "data": {
      "text/plain": [
       "Ttest_indResult(statistic=0.9625093446632118, pvalue=0.33601006135365463)"
      ]
     },
     "execution_count": 63,
     "metadata": {},
     "output_type": "execute_result"
    }
   ],
   "source": [
    "stats.ttest_ind( male_spend, female_spend )"
   ]
  },
  {
   "cell_type": "code",
   "execution_count": 118,
   "id": "6d6f7c82",
   "metadata": {},
   "outputs": [
    {
     "data": {
      "text/plain": [
       "0.33601006135365463"
      ]
     },
     "execution_count": 118,
     "metadata": {},
     "output_type": "execute_result"
    }
   ],
   "source": [
    "# p value of the test\n",
    "\n",
    "p_16 = stats.ttest_ind( male_spend, female_spend ).pvalue\n",
    "p_16"
   ]
  },
  {
   "cell_type": "code",
   "execution_count": 119,
   "id": "b7c60ee6",
   "metadata": {},
   "outputs": [
    {
     "name": "stdout",
     "output_type": "stream",
     "text": [
      "We fail to reject null hypothesis\n"
     ]
    }
   ],
   "source": [
    "# Checking if p value is greater than or less than 0.05.\n",
    "\n",
    "if(p_16<0.05):\n",
    "    print('We reject null hypothesis')\n",
    "else:\n",
    "    print('We fail to reject null hypothesis')"
   ]
  },
  {
   "cell_type": "raw",
   "id": "c8bfcd8c",
   "metadata": {},
   "source": [
    "Business conclusion- The amounts claimed by men and women are similar, implying gender doesn't impact claimed amount. "
   ]
  },
  {
   "cell_type": "markdown",
   "id": "77864223",
   "metadata": {},
   "source": [
    "### 17. Is there any relationship between age category and segment?"
   ]
  },
  {
   "cell_type": "markdown",
   "id": "afd573a3",
   "metadata": {},
   "source": [
    "#### Using Chi Square test to check the relationship because age category and segment because these are two categorical variables. "
   ]
  },
  {
   "cell_type": "raw",
   "id": "4484afb5",
   "metadata": {},
   "source": [
    "H0 - No relationship\n",
    "Ha - There is a relationship among the variables\n",
    "\n",
    "CI - 95%\n",
    "p - 0.05"
   ]
  },
  {
   "cell_type": "code",
   "execution_count": 66,
   "id": "2eb86e91",
   "metadata": {},
   "outputs": [],
   "source": [
    "obs_freq = pd.crosstab( cust_claims['Age group'], cust_claims['Segment'])"
   ]
  },
  {
   "cell_type": "code",
   "execution_count": 67,
   "id": "7fc71e0f",
   "metadata": {},
   "outputs": [
    {
     "data": {
      "text/html": [
       "<div>\n",
       "<style scoped>\n",
       "    .dataframe tbody tr th:only-of-type {\n",
       "        vertical-align: middle;\n",
       "    }\n",
       "\n",
       "    .dataframe tbody tr th {\n",
       "        vertical-align: top;\n",
       "    }\n",
       "\n",
       "    .dataframe thead th {\n",
       "        text-align: right;\n",
       "    }\n",
       "</style>\n",
       "<table border=\"1\" class=\"dataframe\">\n",
       "  <thead>\n",
       "    <tr style=\"text-align: right;\">\n",
       "      <th>Segment</th>\n",
       "      <th>Gold</th>\n",
       "      <th>Platinum</th>\n",
       "      <th>Silver</th>\n",
       "    </tr>\n",
       "    <tr>\n",
       "      <th>Age group</th>\n",
       "      <th></th>\n",
       "      <th></th>\n",
       "      <th></th>\n",
       "    </tr>\n",
       "  </thead>\n",
       "  <tbody>\n",
       "    <tr>\n",
       "      <th>Youth</th>\n",
       "      <td>71</td>\n",
       "      <td>69</td>\n",
       "      <td>68</td>\n",
       "    </tr>\n",
       "    <tr>\n",
       "      <th>Adult</th>\n",
       "      <td>272</td>\n",
       "      <td>266</td>\n",
       "      <td>257</td>\n",
       "    </tr>\n",
       "    <tr>\n",
       "      <th>Senior</th>\n",
       "      <td>28</td>\n",
       "      <td>26</td>\n",
       "      <td>21</td>\n",
       "    </tr>\n",
       "  </tbody>\n",
       "</table>\n",
       "</div>"
      ],
      "text/plain": [
       "Segment    Gold  Platinum  Silver\n",
       "Age group                        \n",
       "Youth        71        69      68\n",
       "Adult       272       266     257\n",
       "Senior       28        26      21"
      ]
     },
     "execution_count": 67,
     "metadata": {},
     "output_type": "execute_result"
    }
   ],
   "source": [
    "obs_freq"
   ]
  },
  {
   "cell_type": "code",
   "execution_count": 68,
   "id": "93e964a1",
   "metadata": {},
   "outputs": [
    {
     "data": {
      "text/plain": [
       "(0.6654696397990999,\n",
       " 0.9555179463691874,\n",
       " 4,\n",
       " array([[ 71.58441558,  69.65491651,  66.7606679 ],\n",
       "        [273.6038961 , 266.22912801, 255.16697588],\n",
       "        [ 25.81168831,  25.11595547,  24.07235622]]))"
      ]
     },
     "execution_count": 68,
     "metadata": {},
     "output_type": "execute_result"
    }
   ],
   "source": [
    "stats.chi2_contingency(obs_freq)"
   ]
  },
  {
   "cell_type": "code",
   "execution_count": 120,
   "id": "a0dd6c1a",
   "metadata": {},
   "outputs": [
    {
     "data": {
      "text/plain": [
       "0.9555179463691874"
      ]
     },
     "execution_count": 120,
     "metadata": {},
     "output_type": "execute_result"
    }
   ],
   "source": [
    "p_17= stats.chi2_contingency(obs_freq)[1]\n",
    "p_17"
   ]
  },
  {
   "cell_type": "code",
   "execution_count": 121,
   "id": "a0d638b8",
   "metadata": {},
   "outputs": [
    {
     "name": "stdout",
     "output_type": "stream",
     "text": [
      "We fail to reject null hypothesis\n"
     ]
    }
   ],
   "source": [
    "# Checking if p value is greater than or less than 0.05.\n",
    "\n",
    "if(p_17<0.05):\n",
    "    print('We reject null hypothesis')\n",
    "else:\n",
    "    print('We fail to reject null hypothesis')"
   ]
  },
  {
   "cell_type": "raw",
   "id": "2515e2ea",
   "metadata": {},
   "source": [
    "Business conclusion: The age category does not impact the segment the customer belongs to. "
   ]
  },
  {
   "cell_type": "markdown",
   "id": "9179a6ff",
   "metadata": {},
   "source": [
    "### 18. The current year has shown a significant rise in claim amounts as compared to 2016-17 fiscal average which was $10,000."
   ]
  },
  {
   "cell_type": "raw",
   "id": "8c15729f",
   "metadata": {},
   "source": [
    "H0: u=10000\n",
    "H1: u>10000\n",
    "\n",
    "CI: 95%\n",
    "p value= 0.05"
   ]
  },
  {
   "cell_type": "code",
   "execution_count": 71,
   "id": "0e4f6592",
   "metadata": {},
   "outputs": [],
   "source": [
    "s1= cust_claims.loc[cust_claims.claim_date.dt.year==2018, 'claim_amount']"
   ]
  },
  {
   "cell_type": "code",
   "execution_count": 72,
   "id": "79a1a1a5",
   "metadata": {},
   "outputs": [
    {
     "data": {
      "text/plain": [
       "12743.43753167584"
      ]
     },
     "execution_count": 72,
     "metadata": {},
     "output_type": "execute_result"
    }
   ],
   "source": [
    "s1.mean()"
   ]
  },
  {
   "cell_type": "code",
   "execution_count": 73,
   "id": "341bae8e",
   "metadata": {},
   "outputs": [
    {
     "data": {
      "text/plain": [
       "Ttest_1sampResult(statistic=4.477343563243787, pvalue=9.43584422198333e-06)"
      ]
     },
     "execution_count": 73,
     "metadata": {},
     "output_type": "execute_result"
    }
   ],
   "source": [
    "stats.ttest_1samp(s1,10000)"
   ]
  },
  {
   "cell_type": "code",
   "execution_count": 122,
   "id": "a706f541",
   "metadata": {},
   "outputs": [
    {
     "data": {
      "text/plain": [
       "9.43584422198333e-06"
      ]
     },
     "execution_count": 122,
     "metadata": {},
     "output_type": "execute_result"
    }
   ],
   "source": [
    "p_18= stats.ttest_1samp(s1,10000).pvalue\n",
    "p_18"
   ]
  },
  {
   "cell_type": "code",
   "execution_count": 123,
   "id": "2e49d670",
   "metadata": {},
   "outputs": [
    {
     "name": "stdout",
     "output_type": "stream",
     "text": [
      "We reject null hypothesis\n"
     ]
    }
   ],
   "source": [
    "# Checking if p value is greater than or less than 0.05.\n",
    "\n",
    "if(p_18<0.05):\n",
    "    print('We reject null hypothesis')\n",
    "else:\n",
    "    print('We fail to reject null hypothesis')"
   ]
  },
  {
   "cell_type": "raw",
   "id": "47141a5a",
   "metadata": {},
   "source": [
    "Business conclusion: The claim amounts have significantly risen in the current year."
   ]
  },
  {
   "cell_type": "markdown",
   "id": "bc390023",
   "metadata": {},
   "source": [
    "### 19. Is there any difference between age groups and insurance claims?"
   ]
  },
  {
   "cell_type": "code",
   "execution_count": 74,
   "id": "4a4a0939",
   "metadata": {},
   "outputs": [
    {
     "data": {
      "text/plain": [
       "Adult       795\n",
       "Youth       208\n",
       "Senior       75\n",
       "Children      0\n",
       "Name: Age group, dtype: int64"
      ]
     },
     "execution_count": 74,
     "metadata": {},
     "output_type": "execute_result"
    }
   ],
   "source": [
    "cust_claims['Age group'].value_counts()"
   ]
  },
  {
   "cell_type": "code",
   "execution_count": 75,
   "id": "e9378d42",
   "metadata": {},
   "outputs": [],
   "source": [
    "s1_19=cust_claims.loc[cust_claims['Age group']=='Adult', 'total_policy_claims']\n",
    "s2_19=cust_claims.loc[cust_claims['Age group']=='Youth', 'total_policy_claims']\n",
    "s3_19=cust_claims.loc[cust_claims['Age group']=='Senior', 'total_policy_claims']\n",
    "s4_19=cust_claims.loc[cust_claims['Age group']=='Children', 'total_policy_claims']"
   ]
  },
  {
   "cell_type": "code",
   "execution_count": 76,
   "id": "21a6d353",
   "metadata": {},
   "outputs": [
    {
     "data": {
      "text/plain": [
       "(1078, 20)"
      ]
     },
     "execution_count": 76,
     "metadata": {},
     "output_type": "execute_result"
    }
   ],
   "source": [
    "cust_claims.shape"
   ]
  },
  {
   "cell_type": "code",
   "execution_count": 77,
   "id": "c4d7b0f9",
   "metadata": {
    "scrolled": true
   },
   "outputs": [
    {
     "name": "stdout",
     "output_type": "stream",
     "text": [
      "mean s1_19: 1.568553459119497 | mean s2_19: 1.6538461538461537 | mean s3_19: 1.5466666666666666 | mean s4_19: nan\n"
     ]
    }
   ],
   "source": [
    "print( 'mean s1_19:', s1_19.mean(), '| mean s2_19:', s2_19.mean(), '| mean s3_19:', s3_19.mean(), '| mean s4_19:', s4_19.mean())"
   ]
  },
  {
   "cell_type": "raw",
   "id": "5d985924",
   "metadata": {},
   "source": [
    "H0 - No difference between age groups and insurance claims (means are from same population)\n",
    "Ha - difference between age groups and insurance claims (means are from different population) \n",
    "\n",
    "CI - 95%\n",
    "p - 0.05"
   ]
  },
  {
   "cell_type": "code",
   "execution_count": 78,
   "id": "34557d44",
   "metadata": {},
   "outputs": [
    {
     "data": {
      "text/plain": [
       "F_onewayResult(statistic=0.4986287189492082, pvalue=0.6075033571498096)"
      ]
     },
     "execution_count": 78,
     "metadata": {},
     "output_type": "execute_result"
    }
   ],
   "source": [
    "# Performing f-test or ANOVA \n",
    "\n",
    "stats.f_oneway(s1_19,s2_19,s3_19)"
   ]
  },
  {
   "cell_type": "code",
   "execution_count": 124,
   "id": "40751c66",
   "metadata": {},
   "outputs": [
    {
     "data": {
      "text/plain": [
       "0.6075033571498096"
      ]
     },
     "execution_count": 124,
     "metadata": {},
     "output_type": "execute_result"
    }
   ],
   "source": [
    "# p value of the f test \n",
    "\n",
    "p_19=stats.f_oneway(s1_19,s2_19,s3_19).pvalue\n",
    "p_19"
   ]
  },
  {
   "cell_type": "code",
   "execution_count": 126,
   "id": "399f6abc",
   "metadata": {},
   "outputs": [
    {
     "name": "stdout",
     "output_type": "stream",
     "text": [
      "We fail to reject null hypothesis\n"
     ]
    }
   ],
   "source": [
    "# Checking if p value is greater than or less than 0.05.\n",
    "\n",
    "if(p_19<0.05):\n",
    "    print('We reject null hypothesis')\n",
    "else:\n",
    "    print('We fail to reject null hypothesis')"
   ]
  },
  {
   "cell_type": "raw",
   "id": "875c85ff",
   "metadata": {},
   "source": [
    "Business conclusion: Age groups do not impact the number of insurance claims. "
   ]
  },
  {
   "cell_type": "markdown",
   "id": "f8a4933c",
   "metadata": {},
   "source": [
    "### 20. Is there any relationship between total number of policy claims and the claimed amount?"
   ]
  },
  {
   "cell_type": "markdown",
   "id": "20cf1cf2",
   "metadata": {},
   "source": [
    "####  Creating m saples of different number of total policy claims to use ANOVA to test the claim"
   ]
  },
  {
   "cell_type": "code",
   "execution_count": 105,
   "id": "2a331312",
   "metadata": {},
   "outputs": [],
   "source": [
    "list1=[]\n",
    "for i in cust_claims.total_policy_claims.unique():\n",
    "    list1.append(cust_claims.loc[cust_claims['total_policy_claims']==i, 'claim_amount' ])"
   ]
  },
  {
   "cell_type": "raw",
   "id": "a7af1467",
   "metadata": {},
   "source": [
    "H0 - No relationship between number of policy claims and claimed amount. (means are from same population)\n",
    "Ha - There is a relationship between number of policy claims and claimed amount. (means are from different population) \n",
    "\n",
    "CI - 95%\n",
    "p - 0.05"
   ]
  },
  {
   "cell_type": "code",
   "execution_count": 108,
   "id": "7e18cb1b",
   "metadata": {
    "scrolled": true
   },
   "outputs": [
    {
     "data": {
      "text/plain": [
       "F_onewayResult(statistic=0.8380476645185537, pvalue=0.5557205168055845)"
      ]
     },
     "execution_count": 108,
     "metadata": {},
     "output_type": "execute_result"
    }
   ],
   "source": [
    "stats.f_oneway(list1[0],list1[1],list1[2],list1[3],list1[4],list1[5],list1[6],list1[7])"
   ]
  },
  {
   "cell_type": "code",
   "execution_count": 111,
   "id": "dd5881bd",
   "metadata": {},
   "outputs": [
    {
     "data": {
      "text/plain": [
       "0.5557205168055845"
      ]
     },
     "execution_count": 111,
     "metadata": {},
     "output_type": "execute_result"
    }
   ],
   "source": [
    "p= stats.f_oneway(list1[0],list1[1],list1[2],list1[3],list1[4],list1[5],list1[6],list1[7]).pvalue\n",
    "p"
   ]
  },
  {
   "cell_type": "code",
   "execution_count": 112,
   "id": "04bb4536",
   "metadata": {},
   "outputs": [
    {
     "name": "stdout",
     "output_type": "stream",
     "text": [
      "We fail to reject null hypothesis\n"
     ]
    }
   ],
   "source": [
    "# Checking if p value is greater than or less than 0.05.\n",
    "\n",
    "if(p<0.05):\n",
    "    print('We reject null hypothesis')\n",
    "else:\n",
    "    print('We fail to reject null hypothesis')"
   ]
  },
  {
   "cell_type": "raw",
   "id": "72fb2eed",
   "metadata": {},
   "source": [
    "Business conclusion: Number of policy claims do not impact the amount claimed"
   ]
  },
  {
   "cell_type": "markdown",
   "id": "ac34bce5",
   "metadata": {},
   "source": [
    "#### Treating the number of policy claims as a ordinal categorical variable, using spearsman rank to test the relationship between claimed amount and number of policy claims"
   ]
  },
  {
   "cell_type": "raw",
   "id": "b53e5cd6",
   "metadata": {},
   "source": [
    "H0 - No relationship between number of policy claims and claimed amount. (means are from same population)\n",
    "Ha - There is a relationship between number of policy claims and claimed amount. (means are from different population) \n",
    "\n",
    "CI - 95%\n",
    "p - 0.05"
   ]
  },
  {
   "cell_type": "code",
   "execution_count": 113,
   "id": "c5a35574",
   "metadata": {},
   "outputs": [
    {
     "data": {
      "text/plain": [
       "SpearmanrResult(correlation=0.0024438656269395224, pvalue=0.9361209394901033)"
      ]
     },
     "execution_count": 113,
     "metadata": {},
     "output_type": "execute_result"
    }
   ],
   "source": [
    "stats.spearmanr(cust_claims.total_policy_claims,cust_claims.claim_amount)"
   ]
  },
  {
   "cell_type": "code",
   "execution_count": 114,
   "id": "5ca13e11",
   "metadata": {},
   "outputs": [
    {
     "data": {
      "text/plain": [
       "0.9361209394901033"
      ]
     },
     "execution_count": 114,
     "metadata": {},
     "output_type": "execute_result"
    }
   ],
   "source": [
    "p= stats.spearmanr(cust_claims.total_policy_claims,cust_claims.claim_amount).pvalue\n",
    "p"
   ]
  },
  {
   "cell_type": "code",
   "execution_count": 116,
   "id": "a59b3cf1",
   "metadata": {},
   "outputs": [
    {
     "name": "stdout",
     "output_type": "stream",
     "text": [
      "We fail to reject null hypothesis\n"
     ]
    }
   ],
   "source": [
    "# Checking if p value is greater than or less than 0.05.\n",
    "\n",
    "if(p<0.05):\n",
    "    print('We reject null hypothesis')\n",
    "else:\n",
    "    print('We fail to reject null hypothesis')"
   ]
  },
  {
   "cell_type": "raw",
   "id": "d465f0e1",
   "metadata": {},
   "source": [
    "Business conclusion: Number of policy claims do not impact the amount claimed"
   ]
  },
  {
   "cell_type": "code",
   "execution_count": null,
   "id": "418337bc",
   "metadata": {},
   "outputs": [],
   "source": []
  }
 ],
 "metadata": {
  "kernelspec": {
   "display_name": "Python 3 (ipykernel)",
   "language": "python",
   "name": "python3"
  },
  "language_info": {
   "codemirror_mode": {
    "name": "ipython",
    "version": 3
   },
   "file_extension": ".py",
   "mimetype": "text/x-python",
   "name": "python",
   "nbconvert_exporter": "python",
   "pygments_lexer": "ipython3",
   "version": "3.9.7"
  }
 },
 "nbformat": 4,
 "nbformat_minor": 5
}
